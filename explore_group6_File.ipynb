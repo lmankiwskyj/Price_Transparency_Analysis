{
 "cells": [
  {
   "cell_type": "code",
   "execution_count": 2,
   "id": "c6094fab",
   "metadata": {},
   "outputs": [],
   "source": [
    "#################################\n",
    "# Cleaning of file entire combined file\n",
    "# remove the n/a rows\n",
    "# join in quality info\n",
    "# verify DRGs look correct\n",
    "# join in DRG descriptions for consistancy\n",
    "# remove the type of code column\n",
    "#\n",
    "#####################################"
   ]
  },
  {
   "cell_type": "code",
   "execution_count": 1,
   "id": "0805b3f0",
   "metadata": {},
   "outputs": [],
   "source": [
    "import pandas as pd"
   ]
  },
  {
   "cell_type": "code",
   "execution_count": 5,
   "id": "7e005091",
   "metadata": {},
   "outputs": [],
   "source": [
    "all_df=pd.read_csv('../Group 6 Data.csv',encoding = \"cp1252\")"
   ]
  },
  {
   "cell_type": "code",
   "execution_count": 9,
   "id": "5bb63feb",
   "metadata": {},
   "outputs": [
    {
     "data": {
      "text/plain": [
       "Index(['US News Ranking', 'Hospital Name', 'Billing Code Type', 'DRG Number',\n",
       "       'DRG Description', 'Payor', 'Plan', 'Charge Amount'],\n",
       "      dtype='object')"
      ]
     },
     "execution_count": 9,
     "metadata": {},
     "output_type": "execute_result"
    }
   ],
   "source": [
    "all_df.columns"
   ]
  },
  {
   "cell_type": "code",
   "execution_count": 13,
   "id": "fcd4875e",
   "metadata": {},
   "outputs": [
    {
     "data": {
      "text/plain": [
       "0"
      ]
     },
     "execution_count": 13,
     "metadata": {},
     "output_type": "execute_result"
    }
   ],
   "source": [
    "all_df['Charge Amount'].isnull().sum()"
   ]
  },
  {
   "cell_type": "code",
   "execution_count": 14,
   "id": "78597661",
   "metadata": {},
   "outputs": [
    {
     "data": {
      "text/plain": [
       "array(['NYU Langone Hospitals Hospital A',\n",
       "       'NYU Langone Hospitals Hospital B',\n",
       "       'NYU Langone Hospitals Hospital C',\n",
       "       'NYU Langone Hospitals Hospital D',\n",
       "       'New York-Presbyterian Hospital', 'Northwestern Memorial Hospital',\n",
       "       'Hospitals of the University of Pennsylvania-Penn Presbyterian',\n",
       "       'BWH Parent', 'University of Michigan', 'Mayo Clinic Rochester',\n",
       "       'Cleveland Clinic', 'UCLA Medical Center', 'Massachusetts General',\n",
       "       'Mayo Clinic Arizona', 'Mount Sinai Hospital',\n",
       "       'RushUniversityMedicalCenter',\n",
       "       'VANDERBILT UNIVERSITY MEDICAL CENTER', 'Barnes-Jewish Hospital'],\n",
       "      dtype=object)"
      ]
     },
     "execution_count": 14,
     "metadata": {},
     "output_type": "execute_result"
    }
   ],
   "source": [
    "all_df['Hospital Name'].unique()"
   ]
  },
  {
   "cell_type": "code",
   "execution_count": 19,
   "id": "39390385",
   "metadata": {},
   "outputs": [
    {
     "data": {
      "text/plain": [
       "array(['Aetna', 'BCBS', 'Cigna', 'Other', 'United Healthcare',\n",
       "       'Gross Charge', 'Self Pay'], dtype=object)"
      ]
     },
     "execution_count": 19,
     "metadata": {},
     "output_type": "execute_result"
    }
   ],
   "source": [
    "all_df['Payor'].unique()"
   ]
  },
  {
   "cell_type": "code",
   "execution_count": 21,
   "id": "836f2cec",
   "metadata": {},
   "outputs": [
    {
     "data": {
      "text/plain": [
       "(1201863, 8)"
      ]
     },
     "execution_count": 21,
     "metadata": {},
     "output_type": "execute_result"
    }
   ],
   "source": [
    "all_df.shape"
   ]
  },
  {
   "cell_type": "code",
   "execution_count": 22,
   "id": "44ec4f0f",
   "metadata": {},
   "outputs": [
    {
     "data": {
      "text/plain": [
       "False"
      ]
     },
     "execution_count": 22,
     "metadata": {},
     "output_type": "execute_result"
    }
   ],
   "source": [
    "all_df['Charge Amount'].isnull().values.any()"
   ]
  },
  {
   "cell_type": "code",
   "execution_count": 24,
   "id": "a1a4ca16",
   "metadata": {},
   "outputs": [
    {
     "name": "stdout",
     "output_type": "stream",
     "text": [
      "<class 'pandas.core.frame.DataFrame'>\n",
      "RangeIndex: 1201863 entries, 0 to 1201862\n",
      "Data columns (total 8 columns):\n",
      " #   Column             Non-Null Count    Dtype  \n",
      "---  ------             --------------    -----  \n",
      " 0   US News Ranking    1201863 non-null  int64  \n",
      " 1   Hospital Name      1201863 non-null  object \n",
      " 2   Billing Code Type  1201863 non-null  object \n",
      " 3   DRG Number         1201863 non-null  int64  \n",
      " 4   DRG Description    1201777 non-null  object \n",
      " 5   Payor              1201863 non-null  object \n",
      " 6   Plan               1201863 non-null  object \n",
      " 7   Charge Amount      1201863 non-null  float64\n",
      "dtypes: float64(1), int64(2), object(5)\n",
      "memory usage: 73.4+ MB\n"
     ]
    }
   ],
   "source": [
    "all_df.info()"
   ]
  },
  {
   "cell_type": "code",
   "execution_count": 25,
   "id": "81815468",
   "metadata": {},
   "outputs": [
    {
     "data": {
      "text/plain": [
       "count    1.201863e+06\n",
       "mean     5.331706e+04\n",
       "std      9.226388e+04\n",
       "min      9.820000e+00\n",
       "25%      1.548339e+04\n",
       "50%      2.956684e+04\n",
       "75%      5.809670e+04\n",
       "max      3.649520e+07\n",
       "Name: Charge Amount, dtype: float64"
      ]
     },
     "execution_count": 25,
     "metadata": {},
     "output_type": "execute_result"
    }
   ],
   "source": [
    "all_df['Charge Amount'].describe()"
   ]
  },
  {
   "cell_type": "code",
   "execution_count": 26,
   "id": "7bee4cf5",
   "metadata": {},
   "outputs": [
    {
     "data": {
      "text/html": [
       "<div>\n",
       "<style scoped>\n",
       "    .dataframe tbody tr th:only-of-type {\n",
       "        vertical-align: middle;\n",
       "    }\n",
       "\n",
       "    .dataframe tbody tr th {\n",
       "        vertical-align: top;\n",
       "    }\n",
       "\n",
       "    .dataframe thead th {\n",
       "        text-align: right;\n",
       "    }\n",
       "</style>\n",
       "<table border=\"1\" class=\"dataframe\">\n",
       "  <thead>\n",
       "    <tr style=\"text-align: right;\">\n",
       "      <th></th>\n",
       "      <th>US News Ranking</th>\n",
       "      <th>Hospital Name</th>\n",
       "      <th>Billing Code Type</th>\n",
       "      <th>DRG Number</th>\n",
       "      <th>DRG Description</th>\n",
       "      <th>Payor</th>\n",
       "      <th>Plan</th>\n",
       "      <th>Charge Amount</th>\n",
       "    </tr>\n",
       "  </thead>\n",
       "  <tbody>\n",
       "    <tr>\n",
       "      <th>0</th>\n",
       "      <td>8</td>\n",
       "      <td>NYU Langone Hospitals Hospital A</td>\n",
       "      <td>MSDRG</td>\n",
       "      <td>1</td>\n",
       "      <td>HEART TRANSPLANT OR IMPLANT OF HEART ASSIST SY...</td>\n",
       "      <td>Aetna</td>\n",
       "      <td>Hospital A1005AETNA HMO</td>\n",
       "      <td>618308.80</td>\n",
       "    </tr>\n",
       "    <tr>\n",
       "      <th>1</th>\n",
       "      <td>8</td>\n",
       "      <td>NYU Langone Hospitals Hospital A</td>\n",
       "      <td>MSDRG</td>\n",
       "      <td>2</td>\n",
       "      <td>HEART TRANSPLANT OR IMPLANT OF HEART ASSIST SY...</td>\n",
       "      <td>Aetna</td>\n",
       "      <td>Hospital A1005AETNA HMO</td>\n",
       "      <td>320135.60</td>\n",
       "    </tr>\n",
       "    <tr>\n",
       "      <th>2</th>\n",
       "      <td>8</td>\n",
       "      <td>NYU Langone Hospitals Hospital A</td>\n",
       "      <td>MSDRG</td>\n",
       "      <td>3</td>\n",
       "      <td>ECMO OR TRACHEOSTOMY WITH MV &gt;96 HOURS OR PRIN...</td>\n",
       "      <td>Aetna</td>\n",
       "      <td>Hospital A1005AETNA HMO</td>\n",
       "      <td>408571.10</td>\n",
       "    </tr>\n",
       "    <tr>\n",
       "      <th>3</th>\n",
       "      <td>8</td>\n",
       "      <td>NYU Langone Hospitals Hospital A</td>\n",
       "      <td>MSDRG</td>\n",
       "      <td>4</td>\n",
       "      <td>TRACHEOSTOMY WITH MV &gt;96 HOURS OR PRINCIPAL DI...</td>\n",
       "      <td>Aetna</td>\n",
       "      <td>Hospital A1005AETNA HMO</td>\n",
       "      <td>254962.70</td>\n",
       "    </tr>\n",
       "    <tr>\n",
       "      <th>4</th>\n",
       "      <td>8</td>\n",
       "      <td>NYU Langone Hospitals Hospital A</td>\n",
       "      <td>MSDRG</td>\n",
       "      <td>5</td>\n",
       "      <td>LIVER TRANSPLANT WITH MCC OR INTESTINAL TRANSP...</td>\n",
       "      <td>Aetna</td>\n",
       "      <td>Hospital A1005AETNA HMO</td>\n",
       "      <td>218875.50</td>\n",
       "    </tr>\n",
       "    <tr>\n",
       "      <th>...</th>\n",
       "      <td>...</td>\n",
       "      <td>...</td>\n",
       "      <td>...</td>\n",
       "      <td>...</td>\n",
       "      <td>...</td>\n",
       "      <td>...</td>\n",
       "      <td>...</td>\n",
       "      <td>...</td>\n",
       "    </tr>\n",
       "    <tr>\n",
       "      <th>1201858</th>\n",
       "      <td>17</td>\n",
       "      <td>Barnes-Jewish Hospital</td>\n",
       "      <td>DRG</td>\n",
       "      <td>982</td>\n",
       "      <td>extensive o.r. procedures unrelated to princip...</td>\n",
       "      <td>Other</td>\n",
       "      <td>ACCESS PPO</td>\n",
       "      <td>48547.19</td>\n",
       "    </tr>\n",
       "    <tr>\n",
       "      <th>1201859</th>\n",
       "      <td>17</td>\n",
       "      <td>Barnes-Jewish Hospital</td>\n",
       "      <td>DRG</td>\n",
       "      <td>982</td>\n",
       "      <td>extensive o.r. procedures unrelated to princip...</td>\n",
       "      <td>United Healthcare</td>\n",
       "      <td>UHC</td>\n",
       "      <td>12816.00</td>\n",
       "    </tr>\n",
       "    <tr>\n",
       "      <th>1201860</th>\n",
       "      <td>17</td>\n",
       "      <td>Barnes-Jewish Hospital</td>\n",
       "      <td>DRG</td>\n",
       "      <td>982</td>\n",
       "      <td>extensive o.r. procedures unrelated to princip...</td>\n",
       "      <td>United Healthcare</td>\n",
       "      <td>UHC MEDICARE</td>\n",
       "      <td>19367.35</td>\n",
       "    </tr>\n",
       "    <tr>\n",
       "      <th>1201861</th>\n",
       "      <td>17</td>\n",
       "      <td>Barnes-Jewish Hospital</td>\n",
       "      <td>DRG</td>\n",
       "      <td>983</td>\n",
       "      <td>extensive o.r. procedures unrelated to princip...</td>\n",
       "      <td>Other</td>\n",
       "      <td>ACCESS PPO</td>\n",
       "      <td>31154.50</td>\n",
       "    </tr>\n",
       "    <tr>\n",
       "      <th>1201862</th>\n",
       "      <td>17</td>\n",
       "      <td>Barnes-Jewish Hospital</td>\n",
       "      <td>DRG</td>\n",
       "      <td>987</td>\n",
       "      <td>non-extensive o.r. procedures unrelated to pri...</td>\n",
       "      <td>United Healthcare</td>\n",
       "      <td>UHC MEDICARE</td>\n",
       "      <td>25977.36</td>\n",
       "    </tr>\n",
       "  </tbody>\n",
       "</table>\n",
       "<p>1201863 rows × 8 columns</p>\n",
       "</div>"
      ],
      "text/plain": [
       "         US News Ranking                     Hospital Name Billing Code Type  \\\n",
       "0                      8  NYU Langone Hospitals Hospital A             MSDRG   \n",
       "1                      8  NYU Langone Hospitals Hospital A             MSDRG   \n",
       "2                      8  NYU Langone Hospitals Hospital A             MSDRG   \n",
       "3                      8  NYU Langone Hospitals Hospital A             MSDRG   \n",
       "4                      8  NYU Langone Hospitals Hospital A             MSDRG   \n",
       "...                  ...                               ...               ...   \n",
       "1201858               17            Barnes-Jewish Hospital               DRG   \n",
       "1201859               17            Barnes-Jewish Hospital               DRG   \n",
       "1201860               17            Barnes-Jewish Hospital               DRG   \n",
       "1201861               17            Barnes-Jewish Hospital               DRG   \n",
       "1201862               17            Barnes-Jewish Hospital               DRG   \n",
       "\n",
       "         DRG Number                                    DRG Description  \\\n",
       "0                 1  HEART TRANSPLANT OR IMPLANT OF HEART ASSIST SY...   \n",
       "1                 2  HEART TRANSPLANT OR IMPLANT OF HEART ASSIST SY...   \n",
       "2                 3  ECMO OR TRACHEOSTOMY WITH MV >96 HOURS OR PRIN...   \n",
       "3                 4  TRACHEOSTOMY WITH MV >96 HOURS OR PRINCIPAL DI...   \n",
       "4                 5  LIVER TRANSPLANT WITH MCC OR INTESTINAL TRANSP...   \n",
       "...             ...                                                ...   \n",
       "1201858         982  extensive o.r. procedures unrelated to princip...   \n",
       "1201859         982  extensive o.r. procedures unrelated to princip...   \n",
       "1201860         982  extensive o.r. procedures unrelated to princip...   \n",
       "1201861         983  extensive o.r. procedures unrelated to princip...   \n",
       "1201862         987  non-extensive o.r. procedures unrelated to pri...   \n",
       "\n",
       "                     Payor                     Plan  Charge Amount  \n",
       "0                    Aetna  Hospital A1005AETNA HMO      618308.80  \n",
       "1                    Aetna  Hospital A1005AETNA HMO      320135.60  \n",
       "2                    Aetna  Hospital A1005AETNA HMO      408571.10  \n",
       "3                    Aetna  Hospital A1005AETNA HMO      254962.70  \n",
       "4                    Aetna  Hospital A1005AETNA HMO      218875.50  \n",
       "...                    ...                      ...            ...  \n",
       "1201858              Other               ACCESS PPO       48547.19  \n",
       "1201859  United Healthcare                      UHC       12816.00  \n",
       "1201860  United Healthcare             UHC MEDICARE       19367.35  \n",
       "1201861              Other               ACCESS PPO       31154.50  \n",
       "1201862  United Healthcare             UHC MEDICARE       25977.36  \n",
       "\n",
       "[1201863 rows x 8 columns]"
      ]
     },
     "execution_count": 26,
     "metadata": {},
     "output_type": "execute_result"
    }
   ],
   "source": [
    "all_df"
   ]
  },
  {
   "cell_type": "code",
   "execution_count": null,
   "id": "d822ac36",
   "metadata": {},
   "outputs": [],
   "source": []
  }
 ],
 "metadata": {
  "kernelspec": {
   "display_name": "Python 3 (ipykernel)",
   "language": "python",
   "name": "python3"
  },
  "language_info": {
   "codemirror_mode": {
    "name": "ipython",
    "version": 3
   },
   "file_extension": ".py",
   "mimetype": "text/x-python",
   "name": "python",
   "nbconvert_exporter": "python",
   "pygments_lexer": "ipython3",
   "version": "3.7.10"
  }
 },
 "nbformat": 4,
 "nbformat_minor": 5
}
