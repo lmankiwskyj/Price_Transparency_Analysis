{
 "cells": [
  {
   "cell_type": "code",
   "execution_count": 2,
   "id": "c6094fab",
   "metadata": {},
   "outputs": [],
   "source": [
    "#################################\n",
    "# Cleaning of file entire combined file\n",
    "# remove the n/a rows\n",
    "# join in quality info\n",
    "# verify DRGs look correct\n",
    "# join in DRG descriptions for consistancy\n",
    "# remove the type of code column\n",
    "#\n",
    "#####################################"
   ]
  },
  {
   "cell_type": "code",
   "execution_count": 1,
   "id": "0805b3f0",
   "metadata": {},
   "outputs": [],
   "source": [
    "import pandas as pd"
   ]
  },
  {
   "cell_type": "code",
   "execution_count": 2,
   "id": "7e005091",
   "metadata": {},
   "outputs": [],
   "source": [
    "all_df=pd.read_csv('../Group6_DRG.csv',encoding = \"cp1252\")"
   ]
  },
  {
   "cell_type": "code",
   "execution_count": 3,
   "id": "5bb63feb",
   "metadata": {},
   "outputs": [
    {
     "data": {
      "text/plain": [
       "Index(['Unnamed: 0', 'US News Ranking', 'Hospital Name', 'DRG Number', 'Payor',\n",
       "       'Plan', 'Charge Amount', 'DRG Description'],\n",
       "      dtype='object')"
      ]
     },
     "execution_count": 3,
     "metadata": {},
     "output_type": "execute_result"
    }
   ],
   "source": [
    "all_df.columns"
   ]
  },
  {
   "cell_type": "code",
   "execution_count": 4,
   "id": "fcd4875e",
   "metadata": {},
   "outputs": [
    {
     "data": {
      "text/plain": [
       "0"
      ]
     },
     "execution_count": 4,
     "metadata": {},
     "output_type": "execute_result"
    }
   ],
   "source": [
    "all_df['Charge Amount'].isnull().sum()"
   ]
  },
  {
   "cell_type": "code",
   "execution_count": 5,
   "id": "78597661",
   "metadata": {},
   "outputs": [
    {
     "data": {
      "text/plain": [
       "array(['NYU Langone Hospitals Hospital A',\n",
       "       'NYU Langone Hospitals Hospital B',\n",
       "       'NYU Langone Hospitals Hospital C',\n",
       "       'NYU Langone Hospitals Hospital D',\n",
       "       'New York-Presbyterian Hospital', 'Northwestern Memorial Hospital',\n",
       "       'BWH Parent', 'University of Michigan', 'Mayo Clinic Rochester',\n",
       "       'Cleveland Clinic', 'UCLA Medical Center', 'Massachusetts General',\n",
       "       'Mayo Clinic Arizona', 'Mount Sinai Hospital',\n",
       "       'RushUniversityMedicalCenter',\n",
       "       'VANDERBILT UNIVERSITY MEDICAL CENTER', 'Barnes-Jewish Hospital',\n",
       "       'Hospitals of the University of Pennsylvania-Penn Presbyterian'],\n",
       "      dtype=object)"
      ]
     },
     "execution_count": 5,
     "metadata": {},
     "output_type": "execute_result"
    }
   ],
   "source": [
    "all_df['Hospital Name'].unique()"
   ]
  },
  {
   "cell_type": "code",
   "execution_count": 6,
   "id": "39390385",
   "metadata": {},
   "outputs": [
    {
     "data": {
      "text/plain": [
       "array(['Aetna', 'BCBS', 'Cigna', 'Other', 'United Healthcare',\n",
       "       'Gross Charge', 'Self Pay'], dtype=object)"
      ]
     },
     "execution_count": 6,
     "metadata": {},
     "output_type": "execute_result"
    }
   ],
   "source": [
    "all_df['Payor'].unique()"
   ]
  },
  {
   "cell_type": "code",
   "execution_count": 7,
   "id": "836f2cec",
   "metadata": {},
   "outputs": [
    {
     "data": {
      "text/plain": [
       "(1201224, 8)"
      ]
     },
     "execution_count": 7,
     "metadata": {},
     "output_type": "execute_result"
    }
   ],
   "source": [
    "all_df.shape"
   ]
  },
  {
   "cell_type": "code",
   "execution_count": 8,
   "id": "44ec4f0f",
   "metadata": {},
   "outputs": [
    {
     "data": {
      "text/plain": [
       "False"
      ]
     },
     "execution_count": 8,
     "metadata": {},
     "output_type": "execute_result"
    }
   ],
   "source": [
    "all_df['Charge Amount'].isnull().values.any()"
   ]
  },
  {
   "cell_type": "code",
   "execution_count": 9,
   "id": "a1a4ca16",
   "metadata": {},
   "outputs": [
    {
     "name": "stdout",
     "output_type": "stream",
     "text": [
      "<class 'pandas.core.frame.DataFrame'>\n",
      "RangeIndex: 1201224 entries, 0 to 1201223\n",
      "Data columns (total 8 columns):\n",
      " #   Column           Non-Null Count    Dtype  \n",
      "---  ------           --------------    -----  \n",
      " 0   Unnamed: 0       1201224 non-null  int64  \n",
      " 1   US News Ranking  1201224 non-null  int64  \n",
      " 2   Hospital Name    1201224 non-null  object \n",
      " 3   DRG Number       1201224 non-null  int64  \n",
      " 4   Payor            1201224 non-null  object \n",
      " 5   Plan             1201224 non-null  object \n",
      " 6   Charge Amount    1201224 non-null  float64\n",
      " 7   DRG Description  1135465 non-null  object \n",
      "dtypes: float64(1), int64(3), object(4)\n",
      "memory usage: 73.3+ MB\n"
     ]
    }
   ],
   "source": [
    "all_df.info()"
   ]
  },
  {
   "cell_type": "code",
   "execution_count": 10,
   "id": "81815468",
   "metadata": {},
   "outputs": [
    {
     "data": {
      "text/plain": [
       "count    1.201224e+06\n",
       "mean     5.331953e+04\n",
       "std      9.222740e+04\n",
       "min      9.820000e+00\n",
       "25%      1.548030e+04\n",
       "50%      2.956666e+04\n",
       "75%      5.812355e+04\n",
       "max      3.649520e+07\n",
       "Name: Charge Amount, dtype: float64"
      ]
     },
     "execution_count": 10,
     "metadata": {},
     "output_type": "execute_result"
    }
   ],
   "source": [
    "all_df['Charge Amount'].describe()"
   ]
  },
  {
   "cell_type": "code",
   "execution_count": 11,
   "id": "7bee4cf5",
   "metadata": {},
   "outputs": [
    {
     "data": {
      "text/html": [
       "<div>\n",
       "<style scoped>\n",
       "    .dataframe tbody tr th:only-of-type {\n",
       "        vertical-align: middle;\n",
       "    }\n",
       "\n",
       "    .dataframe tbody tr th {\n",
       "        vertical-align: top;\n",
       "    }\n",
       "\n",
       "    .dataframe thead th {\n",
       "        text-align: right;\n",
       "    }\n",
       "</style>\n",
       "<table border=\"1\" class=\"dataframe\">\n",
       "  <thead>\n",
       "    <tr style=\"text-align: right;\">\n",
       "      <th></th>\n",
       "      <th>Unnamed: 0</th>\n",
       "      <th>US News Ranking</th>\n",
       "      <th>Hospital Name</th>\n",
       "      <th>DRG Number</th>\n",
       "      <th>Payor</th>\n",
       "      <th>Plan</th>\n",
       "      <th>Charge Amount</th>\n",
       "      <th>DRG Description</th>\n",
       "    </tr>\n",
       "  </thead>\n",
       "  <tbody>\n",
       "    <tr>\n",
       "      <th>0</th>\n",
       "      <td>0</td>\n",
       "      <td>8</td>\n",
       "      <td>NYU Langone Hospitals Hospital A</td>\n",
       "      <td>1</td>\n",
       "      <td>Aetna</td>\n",
       "      <td>Hospital A1005AETNA HMO</td>\n",
       "      <td>618308.80</td>\n",
       "      <td>Heart transplant or implant of heart assist sy...</td>\n",
       "    </tr>\n",
       "    <tr>\n",
       "      <th>1</th>\n",
       "      <td>1</td>\n",
       "      <td>8</td>\n",
       "      <td>NYU Langone Hospitals Hospital B</td>\n",
       "      <td>1</td>\n",
       "      <td>Aetna</td>\n",
       "      <td>Hospital B1005AETNA HMO</td>\n",
       "      <td>618308.80</td>\n",
       "      <td>Heart transplant or implant of heart assist sy...</td>\n",
       "    </tr>\n",
       "    <tr>\n",
       "      <th>2</th>\n",
       "      <td>2</td>\n",
       "      <td>8</td>\n",
       "      <td>NYU Langone Hospitals Hospital C</td>\n",
       "      <td>1</td>\n",
       "      <td>Aetna</td>\n",
       "      <td>Hospital C1005AETNA HMO</td>\n",
       "      <td>475737.80</td>\n",
       "      <td>Heart transplant or implant of heart assist sy...</td>\n",
       "    </tr>\n",
       "    <tr>\n",
       "      <th>3</th>\n",
       "      <td>3</td>\n",
       "      <td>8</td>\n",
       "      <td>NYU Langone Hospitals Hospital D</td>\n",
       "      <td>1</td>\n",
       "      <td>Aetna</td>\n",
       "      <td>Hospital D1005AETNA HMO</td>\n",
       "      <td>576211.20</td>\n",
       "      <td>Heart transplant or implant of heart assist sy...</td>\n",
       "    </tr>\n",
       "    <tr>\n",
       "      <th>4</th>\n",
       "      <td>4</td>\n",
       "      <td>8</td>\n",
       "      <td>NYU Langone Hospitals Hospital A</td>\n",
       "      <td>1</td>\n",
       "      <td>Aetna</td>\n",
       "      <td>Hospital A1006AETNA INDEMNITY</td>\n",
       "      <td>1981340.00</td>\n",
       "      <td>Heart transplant or implant of heart assist sy...</td>\n",
       "    </tr>\n",
       "    <tr>\n",
       "      <th>...</th>\n",
       "      <td>...</td>\n",
       "      <td>...</td>\n",
       "      <td>...</td>\n",
       "      <td>...</td>\n",
       "      <td>...</td>\n",
       "      <td>...</td>\n",
       "      <td>...</td>\n",
       "      <td>...</td>\n",
       "    </tr>\n",
       "    <tr>\n",
       "      <th>1201219</th>\n",
       "      <td>1201858</td>\n",
       "      <td>2</td>\n",
       "      <td>Cleveland Clinic</td>\n",
       "      <td>999</td>\n",
       "      <td>United Healthcare</td>\n",
       "      <td>MYCARE UHC MEDICARE BH</td>\n",
       "      <td>8529.20</td>\n",
       "      <td>NaN</td>\n",
       "    </tr>\n",
       "    <tr>\n",
       "      <th>1201220</th>\n",
       "      <td>1201859</td>\n",
       "      <td>2</td>\n",
       "      <td>Cleveland Clinic</td>\n",
       "      <td>999</td>\n",
       "      <td>Other</td>\n",
       "      <td>UNIVERA SENIORCHOICE</td>\n",
       "      <td>4489.20</td>\n",
       "      <td>NaN</td>\n",
       "    </tr>\n",
       "    <tr>\n",
       "      <th>1201221</th>\n",
       "      <td>1201860</td>\n",
       "      <td>2</td>\n",
       "      <td>Cleveland Clinic</td>\n",
       "      <td>999</td>\n",
       "      <td>Other</td>\n",
       "      <td>UPMC FOR LIFE HMO</td>\n",
       "      <td>4489.20</td>\n",
       "      <td>NaN</td>\n",
       "    </tr>\n",
       "    <tr>\n",
       "      <th>1201222</th>\n",
       "      <td>1201861</td>\n",
       "      <td>2</td>\n",
       "      <td>Cleveland Clinic</td>\n",
       "      <td>999</td>\n",
       "      <td>Other</td>\n",
       "      <td>VALOR HEALTH PLAN HMO SNP</td>\n",
       "      <td>4489.20</td>\n",
       "      <td>NaN</td>\n",
       "    </tr>\n",
       "    <tr>\n",
       "      <th>1201223</th>\n",
       "      <td>1201862</td>\n",
       "      <td>3</td>\n",
       "      <td>UCLA Medical Center</td>\n",
       "      <td>999</td>\n",
       "      <td>United Healthcare</td>\n",
       "      <td>United</td>\n",
       "      <td>90304.45</td>\n",
       "      <td>NaN</td>\n",
       "    </tr>\n",
       "  </tbody>\n",
       "</table>\n",
       "<p>1201224 rows × 8 columns</p>\n",
       "</div>"
      ],
      "text/plain": [
       "         Unnamed: 0  US News Ranking                     Hospital Name  \\\n",
       "0                 0                8  NYU Langone Hospitals Hospital A   \n",
       "1                 1                8  NYU Langone Hospitals Hospital B   \n",
       "2                 2                8  NYU Langone Hospitals Hospital C   \n",
       "3                 3                8  NYU Langone Hospitals Hospital D   \n",
       "4                 4                8  NYU Langone Hospitals Hospital A   \n",
       "...             ...              ...                               ...   \n",
       "1201219     1201858                2                  Cleveland Clinic   \n",
       "1201220     1201859                2                  Cleveland Clinic   \n",
       "1201221     1201860                2                  Cleveland Clinic   \n",
       "1201222     1201861                2                  Cleveland Clinic   \n",
       "1201223     1201862                3               UCLA Medical Center   \n",
       "\n",
       "         DRG Number              Payor                           Plan  \\\n",
       "0                 1              Aetna        Hospital A1005AETNA HMO   \n",
       "1                 1              Aetna        Hospital B1005AETNA HMO   \n",
       "2                 1              Aetna        Hospital C1005AETNA HMO   \n",
       "3                 1              Aetna        Hospital D1005AETNA HMO   \n",
       "4                 1              Aetna  Hospital A1006AETNA INDEMNITY   \n",
       "...             ...                ...                            ...   \n",
       "1201219         999  United Healthcare         MYCARE UHC MEDICARE BH   \n",
       "1201220         999              Other           UNIVERA SENIORCHOICE   \n",
       "1201221         999              Other              UPMC FOR LIFE HMO   \n",
       "1201222         999              Other      VALOR HEALTH PLAN HMO SNP   \n",
       "1201223         999  United Healthcare                         United   \n",
       "\n",
       "         Charge Amount                                    DRG Description  \n",
       "0            618308.80  Heart transplant or implant of heart assist sy...  \n",
       "1            618308.80  Heart transplant or implant of heart assist sy...  \n",
       "2            475737.80  Heart transplant or implant of heart assist sy...  \n",
       "3            576211.20  Heart transplant or implant of heart assist sy...  \n",
       "4           1981340.00  Heart transplant or implant of heart assist sy...  \n",
       "...                ...                                                ...  \n",
       "1201219        8529.20                                                NaN  \n",
       "1201220        4489.20                                                NaN  \n",
       "1201221        4489.20                                                NaN  \n",
       "1201222        4489.20                                                NaN  \n",
       "1201223       90304.45                                                NaN  \n",
       "\n",
       "[1201224 rows x 8 columns]"
      ]
     },
     "execution_count": 11,
     "metadata": {},
     "output_type": "execute_result"
    }
   ],
   "source": [
    "all_df"
   ]
  },
  {
   "cell_type": "code",
   "execution_count": 39,
   "id": "d822ac36",
   "metadata": {},
   "outputs": [
    {
     "ename": "SyntaxError",
     "evalue": "invalid syntax (Temp/ipykernel_13416/2042008658.py, line 2)",
     "output_type": "error",
     "traceback": [
      "\u001b[1;36m  File \u001b[1;32m\"C:\\Users\\m122353\\AppData\\Local\\Temp/ipykernel_13416/2042008658.py\"\u001b[1;36m, line \u001b[1;32m2\u001b[0m\n\u001b[1;33m    if row['Hospital Name'] == 'New York-Presbyterian Hospital'.any()\u001b[0m\n\u001b[1;37m                                                                     ^\u001b[0m\n\u001b[1;31mSyntaxError\u001b[0m\u001b[1;31m:\u001b[0m invalid syntax\n"
     ]
    }
   ],
   "source": [
    "def categorise(row):\n",
    "    if row['Hospital Name'] == 'New York-Presbyterian Hospital':\n",
    "        return '6210024'\n",
    "    elif row['Hospital Name']=='Northwestern Memorial Hospital':\n",
    "        return '6430545'\n",
    "    elif row['Hospital Name']=='Hospitals of the University of Pennsylvania-Penn Presbyterian':\n",
    "        return '6231900'\n",
    "    elif row['Hospital Name']== 'BWH Parent':\n",
    "        return '6140215'\n",
    "    elif row['Hospital Name']=='University of Michigan':\n",
    "        return '6440110'\n",
    "    elif row['Hospital Name']== 'Barnes-Jewish Hospital':':\n",
    "        return '6610451'\n",
    "    elif row['Hospital Name']=='Cleveland Clinic':\n",
    "        return '6410670'\n",
    "    elif row['Hospital Name']=='UCLA Medical Center':\n",
    "        return '6931755'\n",
    "    elif row['Hospital Name']=='Massachusetts General':\n",
    "        return '6140430'\n",
    "    elif row['Hospital Name'] == 'Mayo Clinic Arizona':\n",
    "        return '6860019'\n",
    "    elif row['Hospital Name']== 'Mount Sinai Hospital':\n",
    "        return '6213140'\n",
    "    elif row['Hospital Name']=='RushUniversityMedicalCenter':\n",
    "        return '6430985'\n",
    "    elif row['Hospital Name']== 'VANDERBILT UNIVERSITY MEDICAL CENTER':\n",
    "        return '6521060'\n",
    "    elif row['Hospital Name']=='Barnes-Jewish Hospital':\n",
    "        return '6630930'\n",
    "    else:\n",
    "        return '6212925'"
   ]
  },
  {
   "cell_type": "code",
   "execution_count": 35,
   "id": "70c1a8f6",
   "metadata": {},
   "outputs": [
    {
     "data": {
      "text/plain": [
       "array(['NYU Langone Hospitals Hospital A',\n",
       "       'NYU Langone Hospitals Hospital B',\n",
       "       'NYU Langone Hospitals Hospital C',\n",
       "       'NYU Langone Hospitals Hospital D',\n",
       "       'New York-Presbyterian Hospital', 'Northwestern Memorial Hospital',\n",
       "       'BWH Parent', 'University of Michigan', 'Mayo Clinic Rochester',\n",
       "       'Cleveland Clinic', 'UCLA Medical Center', 'Massachusetts General',\n",
       "       'Mayo Clinic Arizona', 'Mount Sinai Hospital',\n",
       "       'RushUniversityMedicalCenter',\n",
       "       'VANDERBILT UNIVERSITY MEDICAL CENTER', 'Barnes-Jewish Hospital',\n",
       "       'Hospitals of the University of Pennsylvania-Penn Presbyterian'],\n",
       "      dtype=object)"
      ]
     },
     "execution_count": 35,
     "metadata": {},
     "output_type": "execute_result"
    }
   ],
   "source": [
    "all_df['Hospital Name'].unique()\n"
   ]
  },
  {
   "cell_type": "code",
   "execution_count": null,
   "id": "22adbe51",
   "metadata": {},
   "outputs": [],
   "source": [
    "# create Unique ID per hospital column\n",
    "all_df['AHA ID'] = all_df.apply(lambda row: print(row['Hospital Name']), axis=1)"
   ]
  },
  {
   "cell_type": "code",
   "execution_count": 23,
   "id": "91067eb1",
   "metadata": {},
   "outputs": [
    {
     "data": {
      "text/plain": [
       "array(['6212925'], dtype=object)"
      ]
     },
     "execution_count": 23,
     "metadata": {},
     "output_type": "execute_result"
    }
   ],
   "source": [
    "all_df['AHA ID'].unique()"
   ]
  },
  {
   "cell_type": "code",
   "execution_count": null,
   "id": "cc96d78a",
   "metadata": {},
   "outputs": [],
   "source": [
    "all_df['AHA ID'].unique()"
   ]
  },
  {
   "cell_type": "code",
   "execution_count": 43,
   "id": "24f16c8f",
   "metadata": {},
   "outputs": [],
   "source": [
    "# bring in Categorization\n",
    "drg_category=pd.read_excel('./DRG_Specialty_category_mapping.xlsx')"
   ]
  },
  {
   "cell_type": "code",
   "execution_count": 48,
   "id": "42d9f8ad",
   "metadata": {},
   "outputs": [],
   "source": [
    "drg_dummies=pd.get_dummies(drg_category)"
   ]
  },
  {
   "cell_type": "code",
   "execution_count": 52,
   "id": "00851698",
   "metadata": {},
   "outputs": [
    {
     "data": {
      "text/plain": [
       "Index(['DRG', 'Specialty _Cancer', 'Specialty _Cardiology and heart surgery',\n",
       "       'Specialty _Diabetes & Endocrinology', 'Specialty _Ear, Nose & Throat',\n",
       "       'Specialty _Gastroenterology & GI Surgery', 'Specialty _Geriatrics',\n",
       "       'Specialty _Gynecology', 'Specialty _Neurology & Neurosurgery',\n",
       "       'Specialty _Orthopedics', 'Specialty _Pulmonology & Lung Surgery',\n",
       "       'Specialty _Urology'],\n",
       "      dtype='object')"
      ]
     },
     "execution_count": 52,
     "metadata": {},
     "output_type": "execute_result"
    }
   ],
   "source": [
    "drg_dummies.columns"
   ]
  },
  {
   "cell_type": "code",
   "execution_count": 53,
   "id": "46c109a4",
   "metadata": {},
   "outputs": [
    {
     "data": {
      "text/plain": [
       "Index(['Unnamed: 0', 'US News Ranking', 'Hospital Name', 'DRG Number', 'Payor',\n",
       "       'Plan', 'Charge Amount', 'DRG Description', 'AHA ID'],\n",
       "      dtype='object')"
      ]
     },
     "execution_count": 53,
     "metadata": {},
     "output_type": "execute_result"
    }
   ],
   "source": [
    "all_df.columns"
   ]
  },
  {
   "cell_type": "code",
   "execution_count": 55,
   "id": "08982cd1",
   "metadata": {},
   "outputs": [],
   "source": [
    "drg_specialty=pd.merge(all_df,drg_dummies,how='left',left_on=\"DRG Number\",\n",
    "    right_on='DRG',)"
   ]
  },
  {
   "cell_type": "code",
   "execution_count": 58,
   "id": "eca1d453",
   "metadata": {},
   "outputs": [],
   "source": [
    "drg_specialty=drg_specialty.drop(['Unnamed: 0','AHA ID'], axis=1)"
   ]
  },
  {
   "cell_type": "code",
   "execution_count": 60,
   "id": "b08893ad",
   "metadata": {},
   "outputs": [],
   "source": [
    "# ouput csv file\n",
    "drg_specialty.to_csv(\"Group6_DRGv2.csv\", index=False)"
   ]
  },
  {
   "cell_type": "code",
   "execution_count": null,
   "id": "fdc71eea",
   "metadata": {},
   "outputs": [],
   "source": []
  }
 ],
 "metadata": {
  "kernelspec": {
   "display_name": "Python 3 (ipykernel)",
   "language": "python",
   "name": "python3"
  },
  "language_info": {
   "codemirror_mode": {
    "name": "ipython",
    "version": 3
   },
   "file_extension": ".py",
   "mimetype": "text/x-python",
   "name": "python",
   "nbconvert_exporter": "python",
   "pygments_lexer": "ipython3",
   "version": "3.7.10"
  }
 },
 "nbformat": 4,
 "nbformat_minor": 5
}
