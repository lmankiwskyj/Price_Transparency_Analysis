{
 "cells": [
  {
   "cell_type": "code",
   "execution_count": 2,
   "id": "b5b9293f",
   "metadata": {},
   "outputs": [],
   "source": [
    "# melissa robertson February 2022\n",
    "# UCSF - no price data\n",
    "# NY Presbyterian - done\n",
    "# Cedars Sinai - no DRG data\n",
    "#nyu-langone\n",
    "\n",
    "\n",
    "\n",
    "# Dependencies\n",
    "import pandas as pd\n",
    "import numpy as np\n",
    "import json\n",
    "import os\n",
    "import csv\n",
    "import re\n"
   ]
  },
  {
   "cell_type": "code",
   "execution_count": null,
   "id": "8bb67850",
   "metadata": {},
   "outputs": [],
   "source": [
    "################################################################################################################"
   ]
  },
  {
   "cell_type": "code",
   "execution_count": null,
   "id": "7335a980",
   "metadata": {},
   "outputs": [],
   "source": [
    "def categorise(row):\n",
    "    if  'BCBS'.lower() in row['Plan'].lower():\n",
    "        return 'BCBS'\n",
    "    elif  'Blue'.lower() in row['Plan'].lower():\n",
    "        return 'BCBS'\n",
    "    elif 'Cigna'.lower() in row['Plan'].lower():\n",
    "        return 'Cigna'\n",
    "    elif 'Aetna'.lower() in row['Plan'].lower():\n",
    "        return 'Aetna'\n",
    "    elif 'Cash'.lower() in row['Plan'].lower():\n",
    "        return 'Self Pay'\n",
    "    elif 'Gross Charge'.lower() in row['Plan'].lower():\n",
    "        return'Gross Charge'\n",
    "    elif 'United'.lower() in row['Plan'].lower():\n",
    "        return 'United Healthcare'\n",
    "    else:\n",
    "        return 'Other'"
   ]
  },
  {
   "cell_type": "code",
   "execution_count": 121,
   "id": "d6574704",
   "metadata": {},
   "outputs": [],
   "source": [
    "#read in UCSF data\n",
    "filepath = os.path.join(\"../943281657_ucsf-medical-center_standardcharges.json\")\n",
    "with open(filepath) as jsonfile:\n",
    "    UCSF_json = pd.read_json(jsonfile)"
   ]
  },
  {
   "cell_type": "code",
   "execution_count": 122,
   "id": "bc39cc06",
   "metadata": {},
   "outputs": [],
   "source": [
    "#subset to DRG only\n",
    "UCSF_drg=UCSF_json[UCSF_json['Code Type'] =='DRG']"
   ]
  },
  {
   "cell_type": "code",
   "execution_count": 123,
   "id": "4f2e3e11",
   "metadata": {},
   "outputs": [],
   "source": [
    "#remove unneccissary columsn\n",
    "UCSF_drg=UCSF_drg.drop(['Revenue Code','CPT/HCPCS','Default Modifier','CPT/HCPCS Numeric','IP De-Identified Minimum Negotiated Charge','IP De-Identified Maximum Negotiated Charge','OP De-Identified Minimum Negotiated Charge',\n",
    "       'OP De-Identified Maximum Negotiated Charge'], axis=1)"
   ]
  },
  {
   "cell_type": "code",
   "execution_count": 124,
   "id": "40c7c551",
   "metadata": {},
   "outputs": [
    {
     "data": {
      "text/plain": [
       "Index(['Code', 'Code Type', 'Description', 'Default Gross Charge',\n",
       "       'Emergency Care Gross Charge', 'Default Gross Clinic Charge',\n",
       "       'Hospital Ancillary Global Component Gross Charge',\n",
       "       'Hospital Based Professional Services Gross Charge',\n",
       "       'US/MANAGED CHOICE AETNA  IP Negotiated Charge',\n",
       "       'US/ELECT CHOICE AETNA  IP Negotiated Charge',\n",
       "       ...\n",
       "       'TRICARE WEST ACTIVE HNET FED SVCS  OP Negotiated Charge',\n",
       "       'APPLE INC UHC CHOICE PLUS  OP Negotiated Charge',\n",
       "       'ADMIN UNITED HLTHCR  OP Negotiated Charge',\n",
       "       'CHOICE PLUS UNITED HLTHCR  OP Negotiated Charge',\n",
       "       'ADMIN UNITED HLTHCR (UMR)  OP Negotiated Charge',\n",
       "       'UNITED HLTHCR SELECT/ PLUS  OP Negotiated Charge',\n",
       "       'UNITED HLTHCR SELECT/ PLUS POS  OP Negotiated Charge',\n",
       "       'HILL PHYS MED GRP/SAC WHA  OP Negotiated Charge',\n",
       "       'SF MIA OP Negotiated Charge',\n",
       "       'ANTHEM BLUE CONNECTION EPO ANTHEM OP Negotiated Charge'],\n",
       "      dtype='object', length=210)"
      ]
     },
     "execution_count": 124,
     "metadata": {},
     "output_type": "execute_result"
    }
   ],
   "source": [
    "UCSF_drg.columns"
   ]
  },
  {
   "cell_type": "code",
   "execution_count": 125,
   "id": "d8ead883",
   "metadata": {},
   "outputs": [],
   "source": [
    "#rename columns\n",
    "UCSF_drg=UCSF_drg.rename(columns={\"Code\": \"DRG Number\", \"Description\": \"DRG Description\",'Code Type':'Billing Code Type'}) "
   ]
  },
  {
   "cell_type": "code",
   "execution_count": 127,
   "id": "c3276a6e",
   "metadata": {},
   "outputs": [],
   "source": [
    "#check to see if any charges\n",
    "UCSF_drg=UCSF_drg.melt(id_vars=['DRG Number', 'Billing Code Type', 'DRG Description'], \n",
    "        var_name=\"Plan\", \n",
    "        value_name=\"Charge Amount\")"
   ]
  },
  {
   "cell_type": "code",
   "execution_count": 110,
   "id": "394bac8e",
   "metadata": {},
   "outputs": [
    {
     "data": {
      "text/plain": [
       "array(['Default Gross Charge', 'Emergency Care Gross Charge',\n",
       "       'Default Gross Clinic Charge',\n",
       "       'Hospital Ancillary Global Component Gross Charge',\n",
       "       'Hospital Based Professional Services Gross Charge',\n",
       "       'IP De-Identified Minimum Negotiated Charge',\n",
       "       'IP De-Identified Maximum Negotiated Charge',\n",
       "       'OP De-Identified Minimum Negotiated Charge',\n",
       "       'OP De-Identified Maximum Negotiated Charge',\n",
       "       'US/MANAGED CHOICE AETNA  IP Negotiated Charge',\n",
       "       'US/ELECT CHOICE AETNA  IP Negotiated Charge',\n",
       "       'US HLTH/OPEN CHOICE AETNA  IP Negotiated Charge',\n",
       "       'BX PRUDENT BUYER ANTHEM  IP Negotiated Charge',\n",
       "       'BX CA ANTHEM  IP Negotiated Charge',\n",
       "       'BX/BS OUT OF STATE BLUE CARD PROGRAM  IP Negotiated Charge',\n",
       "       'FEDERAL EMPLOYEES/BS ANTHEM  IP Negotiated Charge',\n",
       "       'PERSCHOICE/PERSCARE ANTHEM  IP Negotiated Charge',\n",
       "       'GOOGLE HEALTHCARE ANTHEM  IP Negotiated Charge',\n",
       "       'DELTA HLTH SYSTEMS ANTHEM  IP Negotiated Charge',\n",
       "       'HILL PHYS MED GRP/SF ANTHEM  IP Negotiated Charge',\n",
       "       'SELF INS SCHOOLS CA ANTHEM  IP Negotiated Charge',\n",
       "       'UC/CSU STUDENT HLTH ANTHEM  IP Negotiated Charge',\n",
       "       'ANTHEM  TRANSPLANT PKG  IP Negotiated Charge',\n",
       "       'CVD CA ANTHEM -LMTD CNTY USE  IP Negotiated Charge',\n",
       "       'BLUE SHIELD OUT CA  TRANSPLANT PKG  IP Negotiated Charge',\n",
       "       'HILL PHYS MED GRP/SF UC CCSF BS 1 TRIO  IP Negotiated Charge',\n",
       "       'B&T BLUE SHIELD HMO BLUE SHIELD  IP Negotiated Charge',\n",
       "       'PREFERRED/SELECT CA BLUE SHIELD  IP Negotiated Charge',\n",
       "       'UNITED FOOD&COMM WRKS UN BLUE SHIELD  IP Negotiated Charge',\n",
       "       'SELECT BLUE SHIELD  IP Negotiated Charge',\n",
       "       'HILL PHYS/SF HNET CANOPY PPG 3686  IP Negotiated Charge',\n",
       "       'PPO OPEN ACCESS PLU CIGNA  IP Negotiated Charge',\n",
       "       'CONTRA COSTA HLTH PLN CA  IP Negotiated Charge',\n",
       "       'CVD CA BLUE SHIELD  IP Negotiated Charge',\n",
       "       'CVD CA KAISER PERMANENTE  IP Negotiated Charge',\n",
       "       'CVD CA HNET  IP Negotiated Charge',\n",
       "       'CVD CA HILL PHYS/SF BS TRIO ACO  IP Negotiated Charge',\n",
       "       'HNET PPO & B&G  IP Negotiated Charge',\n",
       "       'FNDN HLTH-N CA KAISER  IP Negotiated Charge',\n",
       "       'ESRD TRANSPLANTS KAISER PKG  IP Negotiated Charge',\n",
       "       'ER CLAIMS KAISER  IP Negotiated Charge',\n",
       "       'IDAHO MEDICAID  IP Negotiated Charge',\n",
       "       'ARIZONA MEDICAID  IP Negotiated Charge',\n",
       "       'BX/BS OUT OF STATE BLUE CARD PROGRAM ALT  IP Negotiated Charge',\n",
       "       'HILL PHYS/SF HNET CANOPY PPG 3686 ALT  IP Negotiated Charge',\n",
       "       'B&T HNET HMO/SNR ALT  IP Negotiated Charge',\n",
       "       'HILL PHYS MED GRP/SF UC CCSF BS ALT 1  IP Negotiated Charge',\n",
       "       'B&T ANTHEM HMO/SNR ALT  IP Negotiated Charge',\n",
       "       'JOHN MUIR HNET CANOPY PPG 3687 ALT  IP Negotiated Charge',\n",
       "       'HILL PHYS MED GRP/SF BLUE SHIELD ALT  IP Negotiated Charge',\n",
       "       'CVD CA MEDI-CAL  IP Negotiated Charge',\n",
       "       'CVD CA S JOAQUIN HLTH PLAN MCALMC  IP Negotiated Charge',\n",
       "       'S JOAQUIN HLTH PLAN MCALMC  IP Negotiated Charge',\n",
       "       'CVD CA ANTHEM BLUE CROSS CA MCALMC  IP Negotiated Charge',\n",
       "       'UCSF MED GRP ANTHEM MCALMC  IP Negotiated Charge',\n",
       "       'BLUE CROSS CA MCAL ANTHEM MCALMC  IP Negotiated Charge',\n",
       "       'CVD CA CONTRA COSTA HLTH PLAN MCALMC  IP Negotiated Charge',\n",
       "       'CVD CA RESTRICTED MEDI-CAL  IP Negotiated Charge',\n",
       "       'CVD CA UCSF MED GRP ANTHEM MCALMC  IP Negotiated Charge',\n",
       "       'LASALLE MED GRP ANTHEM MCALMC  IP Negotiated Charge',\n",
       "       'HNET MCAL MC  IP Negotiated Charge',\n",
       "       'CVD CA COMM HLTH CTR ANTHEM MCALMC  IP Negotiated Charge',\n",
       "       'COMMUNITY HLTH CTR NTWK ANTHEM MCALMC  IP Negotiated Charge',\n",
       "       'CVD CA HEALTH PLAN SAN MATEO MCAL MC  IP Negotiated Charge',\n",
       "       'CVD CA HNET MEDICAL MCALMC  IP Negotiated Charge',\n",
       "       'CVD CA ALAMEDA ALLIANCE HLTH MCALMC  IP Negotiated Charge',\n",
       "       'CVD CA COMM HLTH CTR NTWK ALAMEDA MCALMC  IP Negotiated Charge',\n",
       "       'COMMUNITY HLTH CTR NTWK ALAMEDA MCALMC  IP Negotiated Charge',\n",
       "       'ALLIANCE FOR HLTH ALAMEDA MCALMC  IP Negotiated Charge',\n",
       "       'CVD CA CTRL CA ALLIANCE HLTH MCALMC  IP Negotiated Charge',\n",
       "       'CCS CENTRAL CA ALLIANCE HEALTH MCAL MC  IP Negotiated Charge',\n",
       "       'CENTRAL CA ALLIANCE HEALTH MCALMC  IP Negotiated Charge',\n",
       "       'CONTRA COSTA HLTH PLN CA MCALMC  IP Negotiated Charge',\n",
       "       'CVD CA PARTNERSHIP HLTHPLN  IP Negotiated Charge',\n",
       "       'CCS PARTNERSHIP HLTHPLAN CA MCAL MC  IP Negotiated Charge',\n",
       "       'PARTNERSHIP HLTHPLAN CA MCALMC  IP Negotiated Charge',\n",
       "       'CVD CA UCSF MED GRP SFHP MCALMC  IP Negotiated Charge',\n",
       "       'CVD CA COMM HLTH NTWK SFHP MCALMC  IP Negotiated Charge',\n",
       "       'UCSF MED GRP SFHP MCALMC  IP Negotiated Charge',\n",
       "       'COMMUNITY HLTH NTWK SFHP MCALMC  IP Negotiated Charge',\n",
       "       'CVD CA NORTHEAST MED H SFHP MCALMC  IP Negotiated Charge',\n",
       "       'YUBA CCS-CA  IP Negotiated Charge',\n",
       "       'UNITED HEALTHCARE MCARE ADVANTAGE PPO  IP Negotiated Charge',\n",
       "       'UHC UC RETIREE MCARE ADVANTAGE PPO  IP Negotiated Charge',\n",
       "       'ESRD TRANSPLANTS KAISER HMO/SNR PKG  IP Negotiated Charge',\n",
       "       'FNDN HLTH-N CA KAISER HMO/SNR  IP Negotiated Charge',\n",
       "       'CCHCA/AAMG ANTHEM HMO/SNR  IP Negotiated Charge',\n",
       "       'AETNA MCARE ADVANTAGE PPO  IP Negotiated Charge',\n",
       "       'IMPERIAL HEALTH PLAN ANTHEM HMO/SNR  IP Negotiated Charge',\n",
       "       'HPMG/SF UHC CANOPY HMO/SNR #30459  IP Negotiated Charge',\n",
       "       'SENIOR KAISER HMO/SNR  IP Negotiated Charge',\n",
       "       'HILL PHYS MED GRP/SF HNET HMO/SNR  IP Negotiated Charge',\n",
       "       'ANTHEM MCARE ADVANTAGE PREFERRED PPO  IP Negotiated Charge',\n",
       "       'UC CARE/ANTHEM BLUE CROSS CA  IP Negotiated Charge',\n",
       "       'AETNA MERITAIN HEALTH  IP Negotiated Charge',\n",
       "       'OPTUM HEALTHCARE PPO  IP Negotiated Charge',\n",
       "       'MEDICAL RESOURCES UNITED MEDICAL (UMR)  IP Negotiated Charge',\n",
       "       'OPTUM HEALTH URN  TRANSPLANT PKG  IP Negotiated Charge',\n",
       "       'UNITED MEDICAL RESOURCES SUTTER HLTH  IP Negotiated Charge',\n",
       "       'TRIWEST VA WPS MVH-VAPCCC  IP Negotiated Charge',\n",
       "       'TRICARE WEST ACTIVE HNET FED SVCS  IP Negotiated Charge',\n",
       "       'APPLE INC UHC CHOICE PLUS  IP Negotiated Charge',\n",
       "       'ADMIN UNITED HLTHCR  IP Negotiated Charge',\n",
       "       'CHOICE PLUS UNITED HLTHCR  IP Negotiated Charge',\n",
       "       'ADMIN UNITED HLTHCR (UMR)  IP Negotiated Charge',\n",
       "       'UNITED HLTHCR SELECT/ PLUS  IP Negotiated Charge',\n",
       "       'UNITED HLTHCR SELECT/ PLUS POS  IP Negotiated Charge',\n",
       "       'HILL PHYS MED GRP/SAC WHA  IP Negotiated Charge',\n",
       "       'SF MIA IP Negotiated Charge',\n",
       "       'ANTHEM BLUE CONNECTION EPO ANTHEM IP Negotiated Charge',\n",
       "       'US/MANAGED CHOICE AETNA  OP Negotiated Charge',\n",
       "       'US/ELECT CHOICE AETNA  OP Negotiated Charge',\n",
       "       'US HLTH/OPEN CHOICE AETNA  OP Negotiated Charge',\n",
       "       'BX PRUDENT BUYER ANTHEM  OP Negotiated Charge',\n",
       "       'BX CA ANTHEM  OP Negotiated Charge',\n",
       "       'BX/BS OUT OF STATE BLUE CARD PROGRAM  OP Negotiated Charge',\n",
       "       'FEDERAL EMPLOYEES/BS ANTHEM  OP Negotiated Charge',\n",
       "       'PERSCHOICE/PERSCARE ANTHEM  OP Negotiated Charge',\n",
       "       'GOOGLE HEALTHCARE ANTHEM  OP Negotiated Charge',\n",
       "       'DELTA HLTH SYSTEMS ANTHEM  OP Negotiated Charge',\n",
       "       'HILL PHYS MED GRP/SF ANTHEM  OP Negotiated Charge',\n",
       "       'SELF INS SCHOOLS CA ANTHEM  OP Negotiated Charge',\n",
       "       'UC/CSU STUDENT HLTH ANTHEM  OP Negotiated Charge',\n",
       "       'ANTHEM  TRANSPLANT PKG  OP Negotiated Charge',\n",
       "       'CVD CA ANTHEM -LMTD CNTY USE  OP Negotiated Charge',\n",
       "       'BLUE SHIELD OUT CA  TRANSPLANT PKG  OP Negotiated Charge',\n",
       "       'HILL PHYS MED GRP/SF UC CCSF BS 1 TRIO  OP Negotiated Charge',\n",
       "       'B&T BLUE SHIELD HMO BLUE SHIELD  OP Negotiated Charge',\n",
       "       'PREFERRED/SELECT CA BLUE SHIELD  OP Negotiated Charge',\n",
       "       'UNITED FOOD&COMM WRKS UN BLUE SHIELD  OP Negotiated Charge',\n",
       "       'SELECT BLUE SHIELD  OP Negotiated Charge',\n",
       "       'HILL PHYS/SF HNET CANOPY PPG 3686  OP Negotiated Charge',\n",
       "       'PPO OPEN ACCESS PLU CIGNA  OP Negotiated Charge',\n",
       "       'CONTRA COSTA HLTH PLN CA  OP Negotiated Charge',\n",
       "       'CVD CA BLUE SHIELD  OP Negotiated Charge',\n",
       "       'CVD CA KAISER PERMANENTE  OP Negotiated Charge',\n",
       "       'CVD CA HNET  OP Negotiated Charge',\n",
       "       'CVD CA HILL PHYS/SF BS TRIO ACO  OP Negotiated Charge',\n",
       "       'HNET PPO & B&G  OP Negotiated Charge',\n",
       "       'FNDN HLTH-N CA KAISER  OP Negotiated Charge',\n",
       "       'ESRD TRANSPLANTS KAISER PKG  OP Negotiated Charge',\n",
       "       'ER CLAIMS KAISER  OP Negotiated Charge',\n",
       "       'IDAHO MEDICAID  OP Negotiated Charge',\n",
       "       'ARIZONA MEDICAID  OP Negotiated Charge',\n",
       "       'BX/BS OUT OF STATE BLUE CARD PROGRAM ALT  OP Negotiated Charge',\n",
       "       'HILL PHYS/SF HNET CANOPY PPG 3686 ALT  OP Negotiated Charge',\n",
       "       'B&T HNET HMO/SNR ALT  OP Negotiated Charge',\n",
       "       'HILL PHYS MED GRP/SF UC CCSF BS ALT 1  OP Negotiated Charge',\n",
       "       'B&T ANTHEM HMO/SNR ALT  OP Negotiated Charge',\n",
       "       'JOHN MUIR HNET CANOPY PPG 3687 ALT  OP Negotiated Charge',\n",
       "       'HILL PHYS MED GRP/SF BLUE SHIELD ALT  OP Negotiated Charge',\n",
       "       'CVD CA MEDI-CAL  OP Negotiated Charge',\n",
       "       'CVD CA S JOAQUIN HLTH PLAN MCALMC  OP Negotiated Charge',\n",
       "       'S JOAQUIN HLTH PLAN MCALMC  OP Negotiated Charge',\n",
       "       'CVD CA ANTHEM BLUE CROSS CA MCALMC  OP Negotiated Charge',\n",
       "       'UCSF MED GRP ANTHEM MCALMC  OP Negotiated Charge',\n",
       "       'BLUE CROSS CA MCAL ANTHEM MCALMC  OP Negotiated Charge',\n",
       "       'CVD CA CONTRA COSTA HLTH PLAN MCALMC  OP Negotiated Charge',\n",
       "       'CVD CA RESTRICTED MEDI-CAL  OP Negotiated Charge',\n",
       "       'CVD CA UCSF MED GRP ANTHEM MCALMC  OP Negotiated Charge',\n",
       "       'LASALLE MED GRP ANTHEM MCALMC  OP Negotiated Charge',\n",
       "       'HNET MCAL MC  OP Negotiated Charge',\n",
       "       'CVD CA COMM HLTH CTR ANTHEM MCALMC  OP Negotiated Charge',\n",
       "       'COMMUNITY HLTH CTR NTWK ANTHEM MCALMC  OP Negotiated Charge',\n",
       "       'CVD CA HEALTH PLAN SAN MATEO MCAL MC  OP Negotiated Charge',\n",
       "       'CVD CA HNET MEDICAL MCALMC  OP Negotiated Charge',\n",
       "       'CVD CA ALAMEDA ALLIANCE HLTH MCALMC  OP Negotiated Charge',\n",
       "       'CVD CA COMM HLTH CTR NTWK ALAMEDA MCALMC  OP Negotiated Charge',\n",
       "       'COMMUNITY HLTH CTR NTWK ALAMEDA MCALMC  OP Negotiated Charge',\n",
       "       'ALLIANCE FOR HLTH ALAMEDA MCALMC  OP Negotiated Charge',\n",
       "       'CVD CA CTRL CA ALLIANCE HLTH MCALMC  OP Negotiated Charge',\n",
       "       'CCS CENTRAL CA ALLIANCE HEALTH MCAL MC  OP Negotiated Charge',\n",
       "       'CENTRAL CA ALLIANCE HEALTH MCALMC  OP Negotiated Charge',\n",
       "       'CONTRA COSTA HLTH PLN CA MCALMC  OP Negotiated Charge',\n",
       "       'CVD CA PARTNERSHIP HLTHPLN  OP Negotiated Charge',\n",
       "       'CCS PARTNERSHIP HLTHPLAN CA MCAL MC  OP Negotiated Charge',\n",
       "       'PARTNERSHIP HLTHPLAN CA MCALMC  OP Negotiated Charge',\n",
       "       'CVD CA UCSF MED GRP SFHP MCALMC  OP Negotiated Charge',\n",
       "       'CVD CA COMM HLTH NTWK SFHP MCALMC  OP Negotiated Charge',\n",
       "       'UCSF MED GRP SFHP MCALMC  OP Negotiated Charge',\n",
       "       'COMMUNITY HLTH NTWK SFHP MCALMC  OP Negotiated Charge',\n",
       "       'CVD CA NORTHEAST MED H SFHP MCALMC  OP Negotiated Charge',\n",
       "       'YUBA CCS-CA  OP Negotiated Charge',\n",
       "       'UNITED HEALTHCARE MCARE ADVANTAGE PPO  OP Negotiated Charge',\n",
       "       'UHC UC RETIREE MCARE ADVANTAGE PPO  OP Negotiated Charge',\n",
       "       'ESRD TRANSPLANTS KAISER HMO/SNR PKG  OP Negotiated Charge',\n",
       "       'FNDN HLTH-N CA KAISER HMO/SNR  OP Negotiated Charge',\n",
       "       'CCHCA/AAMG ANTHEM HMO/SNR  OP Negotiated Charge',\n",
       "       'AETNA MCARE ADVANTAGE PPO  OP Negotiated Charge',\n",
       "       'IMPERIAL HEALTH PLAN ANTHEM HMO/SNR  OP Negotiated Charge',\n",
       "       'HPMG/SF UHC CANOPY HMO/SNR #30459  OP Negotiated Charge',\n",
       "       'SENIOR KAISER HMO/SNR  OP Negotiated Charge',\n",
       "       'HILL PHYS MED GRP/SF HNET HMO/SNR  OP Negotiated Charge',\n",
       "       'ANTHEM MCARE ADVANTAGE PREFERRED PPO  OP Negotiated Charge',\n",
       "       'UC CARE/ANTHEM BLUE CROSS CA  OP Negotiated Charge',\n",
       "       'AETNA MERITAIN HEALTH  OP Negotiated Charge',\n",
       "       'OPTUM HEALTHCARE PPO  OP Negotiated Charge',\n",
       "       'MEDICAL RESOURCES UNITED MEDICAL (UMR)  OP Negotiated Charge',\n",
       "       'OPTUM HEALTH URN  TRANSPLANT PKG  OP Negotiated Charge',\n",
       "       'UNITED MEDICAL RESOURCES SUTTER HLTH  OP Negotiated Charge',\n",
       "       'TRIWEST VA WPS MVH-VAPCCC  OP Negotiated Charge',\n",
       "       'TRICARE WEST ACTIVE HNET FED SVCS  OP Negotiated Charge',\n",
       "       'APPLE INC UHC CHOICE PLUS  OP Negotiated Charge',\n",
       "       'ADMIN UNITED HLTHCR  OP Negotiated Charge',\n",
       "       'CHOICE PLUS UNITED HLTHCR  OP Negotiated Charge',\n",
       "       'ADMIN UNITED HLTHCR (UMR)  OP Negotiated Charge',\n",
       "       'UNITED HLTHCR SELECT/ PLUS  OP Negotiated Charge',\n",
       "       'UNITED HLTHCR SELECT/ PLUS POS  OP Negotiated Charge',\n",
       "       'HILL PHYS MED GRP/SAC WHA  OP Negotiated Charge',\n",
       "       'SF MIA OP Negotiated Charge',\n",
       "       'ANTHEM BLUE CONNECTION EPO ANTHEM OP Negotiated Charge'],\n",
       "      dtype=object)"
      ]
     },
     "execution_count": 110,
     "metadata": {},
     "output_type": "execute_result"
    }
   ],
   "source": [
    "UCSF_drg['Plan'].unique()\n"
   ]
  },
  {
   "cell_type": "code",
   "execution_count": 128,
   "id": "f840829d",
   "metadata": {},
   "outputs": [],
   "source": [
    "# create payer column\n",
    "UCSF_drg['Payor'] = UCSF_drg.apply(lambda row: categorise(row), axis=1)"
   ]
  },
  {
   "cell_type": "code",
   "execution_count": 129,
   "id": "e83ba5ee",
   "metadata": {},
   "outputs": [
    {
     "data": {
      "text/plain": [
       "array(['Gross Charge', 'Other', 'Aetna', 'BCBS', 'Cigna',\n",
       "       'United Healthcare'], dtype=object)"
      ]
     },
     "execution_count": 129,
     "metadata": {},
     "output_type": "execute_result"
    }
   ],
   "source": [
    "UCSF_drg['Payor'].unique()"
   ]
  },
  {
   "cell_type": "code",
   "execution_count": 130,
   "id": "61c6e0d2",
   "metadata": {},
   "outputs": [],
   "source": [
    "#add additonal columns\n",
    "UCSF_drg[\"US News Ranking\"]=9\n",
    "UCSF_drg[\"Hospital Name\"]=\"UCSF Medical Center\""
   ]
  },
  {
   "cell_type": "code",
   "execution_count": 134,
   "id": "95ed4967",
   "metadata": {},
   "outputs": [],
   "source": [
    "# reorder columns\n",
    "UCSF_drg = UCSF_drg[[\"US News Ranking\",\"Hospital Name\", \"Billing Code Type\",\"DRG Number\", \"DRG Description\",\"Payor\",\"Plan\",\"Charge Amount\"]]"
   ]
  },
  {
   "cell_type": "code",
   "execution_count": 135,
   "id": "8dc697a6",
   "metadata": {},
   "outputs": [],
   "source": [
    "# ouput csv file\n",
    "UCSF_drg.to_csv(\"UCSF Medical Center.csv\", index=False)"
   ]
  },
  {
   "cell_type": "code",
   "execution_count": null,
   "id": "c895e032",
   "metadata": {},
   "outputs": [],
   "source": [
    "#NO charges available for UCSF"
   ]
  },
  {
   "cell_type": "code",
   "execution_count": null,
   "id": "e2951abe",
   "metadata": {},
   "outputs": [],
   "source": [
    "######################################################################################################################"
   ]
  },
  {
   "cell_type": "code",
   "execution_count": null,
   "id": "0cc75d4d",
   "metadata": {},
   "outputs": [],
   "source": [
    "## NY presbyterian file\n",
    "#########################################################################################################################"
   ]
  },
  {
   "cell_type": "code",
   "execution_count": 10,
   "id": "b250c924",
   "metadata": {},
   "outputs": [],
   "source": [
    "#NYpresbyterian\n",
    "NYpres_json=pd.read_json(\"../133957095_NewYorkPresbyterianHospital_updated01132022.json\",lines=True,orient='records')\n"
   ]
  },
  {
   "cell_type": "code",
   "execution_count": 11,
   "id": "afb7313d",
   "metadata": {},
   "outputs": [
    {
     "data": {
      "text/plain": [
       "(2, 5757)"
      ]
     },
     "execution_count": 11,
     "metadata": {},
     "output_type": "execute_result"
    }
   ],
   "source": [
    "NYpres_json.shape"
   ]
  },
  {
   "cell_type": "code",
   "execution_count": 12,
   "id": "9cd61d7d",
   "metadata": {},
   "outputs": [
    {
     "data": {
      "text/plain": [
       "0       {'Code (CPT/DRG)': 1110000001, 'Description': ...\n",
       "1       {'Code (CPT/DRG)': 1110000004, 'Description': ...\n",
       "2       {'Code (CPT/DRG)': 1110000005, 'Description': ...\n",
       "3       {'Code (CPT/DRG)': 1110000006, 'Description': ...\n",
       "4       {'Code (CPT/DRG)': 1110000007, 'Description': ...\n",
       "                              ...                        \n",
       "5752    {'Code (CPT/DRG)': 982, 'Description': 'EXTENS...\n",
       "5753    {'Code (CPT/DRG)': 983, 'Description': 'EXTENS...\n",
       "5754    {'Code (CPT/DRG)': 987, 'Description': 'NON-EX...\n",
       "5755    {'Code (CPT/DRG)': 988, 'Description': 'NON-EX...\n",
       "5756    {'Code (CPT/DRG)': 989, 'Description': 'NON-EX...\n",
       "Name: 0, Length: 5757, dtype: object"
      ]
     },
     "execution_count": 12,
     "metadata": {},
     "output_type": "execute_result"
    }
   ],
   "source": [
    "NYpres_json_long=NYpres_json.T\n",
    "NYpres_json_long[0]"
   ]
  },
  {
   "cell_type": "code",
   "execution_count": 13,
   "id": "53514974",
   "metadata": {},
   "outputs": [],
   "source": [
    "NYpresdict=[]\n",
    "i=0\n",
    "j=0\n",
    "while j <2:\n",
    "    for each in NYpres_json_long[j]:\n",
    "        NYpresdict.append(each)\n",
    "       # print(each)\n",
    "        i+=1\n",
    "    j+=1\n",
    "    \n",
    "    "
   ]
  },
  {
   "cell_type": "code",
   "execution_count": 14,
   "id": "52c72b82",
   "metadata": {},
   "outputs": [],
   "source": [
    "#keep only DRG\n",
    "NYpresdrg_dict=[]\n",
    "for each in NYpresdict:\n",
    "    try:\n",
    "        if each['Code (CPT/DRG)']<1000:\n",
    "            NYpresdrg_dict.append(each)\n",
    "    except:\n",
    "        continue\n",
    "     \n",
    "        "
   ]
  },
  {
   "cell_type": "code",
   "execution_count": 16,
   "id": "e5d40d0b",
   "metadata": {},
   "outputs": [
    {
     "data": {
      "text/plain": [
       "756"
      ]
     },
     "execution_count": 16,
     "metadata": {},
     "output_type": "execute_result"
    }
   ],
   "source": [
    "len(NYpresdrg_dict)\n"
   ]
  },
  {
   "cell_type": "code",
   "execution_count": 75,
   "id": "c974c6d1",
   "metadata": {},
   "outputs": [],
   "source": [
    "NYpresdf = pd.DataFrame.from_dict(NYpresdrg_dict)"
   ]
  },
  {
   "cell_type": "code",
   "execution_count": 76,
   "id": "d3efcd61",
   "metadata": {},
   "outputs": [
    {
     "data": {
      "text/plain": [
       "Index(['Code (CPT/DRG)', 'Description', 'Rev Code', 'Inpatient/Outpatient',\n",
       "       'Gross Charges', 'Discounted Cash Price', 'Aetna', 'Cigna', 'Empire',\n",
       "       'Emblem', 'United', 'Aetna Medicare', 'AgeWell Medicare',\n",
       "       'Empire Medicare', 'Fidelis Medicare', 'Emblem Medicare',\n",
       "       'Healthfirst Medicare', 'UHC Community Plan/United Medicare',\n",
       "       'VNS Medicare', 'WellCare Medicare', '1199',\n",
       "       'Affinity Molina Medicaid/CHP', 'Affinity Molina Essential',\n",
       "       'Amida Care Medicaid', 'Empire Healthplus Medicaid',\n",
       "       'Empire Healthplus Essential', 'Empire Healthplus Exchange',\n",
       "       'Fidelis Medicaid/CHP', 'Fidelis Essential/Exchange',\n",
       "       'Healthfirst Essential/Exchange', 'Healthfirst Medicaid/CHP',\n",
       "       'Emblem Medicaid/CHP', 'MVP Medicaid/CHP', 'MVP Essential',\n",
       "       'United Commuity Plan Medicaid', 'United Commuity Plan Essential',\n",
       "       'VNS Medicaid', 'Minimum Negotiated Charge',\n",
       "       'Maximum Negotiated Charge'],\n",
       "      dtype='object')"
      ]
     },
     "execution_count": 76,
     "metadata": {},
     "output_type": "execute_result"
    }
   ],
   "source": [
    "NYpresdf.columns"
   ]
  },
  {
   "cell_type": "code",
   "execution_count": 77,
   "id": "464fb9dc",
   "metadata": {},
   "outputs": [],
   "source": [
    "#remove unneccissary columsn\n",
    "NYpresdf=NYpresdf.drop([\"Rev Code\",\"Inpatient/Outpatient\",'Minimum Negotiated Charge','Maximum Negotiated Charge'], axis=1)"
   ]
  },
  {
   "cell_type": "code",
   "execution_count": 78,
   "id": "c02dd98b",
   "metadata": {},
   "outputs": [
    {
     "data": {
      "text/plain": [
       "Index(['Code (CPT/DRG)', 'Description', 'Gross Charges',\n",
       "       'Discounted Cash Price', 'Aetna', 'Cigna', 'Empire', 'Emblem', 'United',\n",
       "       'Aetna Medicare', 'AgeWell Medicare', 'Empire Medicare',\n",
       "       'Fidelis Medicare', 'Emblem Medicare', 'Healthfirst Medicare',\n",
       "       'UHC Community Plan/United Medicare', 'VNS Medicare',\n",
       "       'WellCare Medicare', '1199', 'Affinity Molina Medicaid/CHP',\n",
       "       'Affinity Molina Essential', 'Amida Care Medicaid',\n",
       "       'Empire Healthplus Medicaid', 'Empire Healthplus Essential',\n",
       "       'Empire Healthplus Exchange', 'Fidelis Medicaid/CHP',\n",
       "       'Fidelis Essential/Exchange', 'Healthfirst Essential/Exchange',\n",
       "       'Healthfirst Medicaid/CHP', 'Emblem Medicaid/CHP', 'MVP Medicaid/CHP',\n",
       "       'MVP Essential', 'United Commuity Plan Medicaid',\n",
       "       'United Commuity Plan Essential', 'VNS Medicaid'],\n",
       "      dtype='object')"
      ]
     },
     "execution_count": 78,
     "metadata": {},
     "output_type": "execute_result"
    }
   ],
   "source": [
    "NYpresdf.columns"
   ]
  },
  {
   "cell_type": "code",
   "execution_count": 79,
   "id": "b3dd50f0",
   "metadata": {},
   "outputs": [],
   "source": [
    "#rename columns\n",
    "NYpresdf=NYpresdf.rename(columns={\"Code (CPT/DRG)\": \"DRG Number\", \"Description\": \"DRG Description\",}) "
   ]
  },
  {
   "cell_type": "code",
   "execution_count": 80,
   "id": "e75846d8",
   "metadata": {},
   "outputs": [],
   "source": [
    "# convert columns to rows\n",
    "NYpresdf=NYpresdf.melt(id_vars=[\"DRG Number\", \"DRG Description\"], \n",
    "        var_name=\"Plan\", \n",
    "        value_name=\"Charge Amount\")"
   ]
  },
  {
   "cell_type": "code",
   "execution_count": 81,
   "id": "467e3b1e",
   "metadata": {},
   "outputs": [],
   "source": [
    "#add additonal columns\n",
    "NYpresdf[\"US News Ranking\"]=7\n",
    "NYpresdf[\"Hospital Name\"]=\"New York-Presbyterian Hospital\"\n",
    "NYpresdf[\"Billing Code Type\"]=\"MSDRG\""
   ]
  },
  {
   "cell_type": "code",
   "execution_count": 82,
   "id": "cc09203e",
   "metadata": {},
   "outputs": [
    {
     "data": {
      "text/html": [
       "<div>\n",
       "<style scoped>\n",
       "    .dataframe tbody tr th:only-of-type {\n",
       "        vertical-align: middle;\n",
       "    }\n",
       "\n",
       "    .dataframe tbody tr th {\n",
       "        vertical-align: top;\n",
       "    }\n",
       "\n",
       "    .dataframe thead th {\n",
       "        text-align: right;\n",
       "    }\n",
       "</style>\n",
       "<table border=\"1\" class=\"dataframe\">\n",
       "  <thead>\n",
       "    <tr style=\"text-align: right;\">\n",
       "      <th></th>\n",
       "      <th>DRG Number</th>\n",
       "      <th>DRG Description</th>\n",
       "      <th>Plan</th>\n",
       "      <th>Charge Amount</th>\n",
       "      <th>US News Ranking</th>\n",
       "      <th>Hospital Name</th>\n",
       "      <th>Billing Code Type</th>\n",
       "    </tr>\n",
       "  </thead>\n",
       "  <tbody>\n",
       "    <tr>\n",
       "      <th>2268</th>\n",
       "      <td>1</td>\n",
       "      <td>HEART TRANSPLANT OR IMPLANT OF HEART ASSIST SY...</td>\n",
       "      <td>Cigna</td>\n",
       "      <td>1024812.054</td>\n",
       "      <td>7</td>\n",
       "      <td>New York-Presbyterian Hospital</td>\n",
       "      <td>MSDRG</td>\n",
       "    </tr>\n",
       "    <tr>\n",
       "      <th>2269</th>\n",
       "      <td>2</td>\n",
       "      <td>HEART TRANSPLANT OR IMPLANT OF HEART ASSIST SY...</td>\n",
       "      <td>Cigna</td>\n",
       "      <td>1024812.054</td>\n",
       "      <td>7</td>\n",
       "      <td>New York-Presbyterian Hospital</td>\n",
       "      <td>MSDRG</td>\n",
       "    </tr>\n",
       "    <tr>\n",
       "      <th>2270</th>\n",
       "      <td>3</td>\n",
       "      <td>ECMO OR TRACHEOSTOMY WITH MV &gt;96 HOURS OR PRIN...</td>\n",
       "      <td>Cigna</td>\n",
       "      <td>746260.830</td>\n",
       "      <td>7</td>\n",
       "      <td>New York-Presbyterian Hospital</td>\n",
       "      <td>MSDRG</td>\n",
       "    </tr>\n",
       "    <tr>\n",
       "      <th>2271</th>\n",
       "      <td>4</td>\n",
       "      <td>TRACHEOSTOMY WITH MV &gt;96 HOURS OR PRINCIPAL DI...</td>\n",
       "      <td>Cigna</td>\n",
       "      <td>465692.850</td>\n",
       "      <td>7</td>\n",
       "      <td>New York-Presbyterian Hospital</td>\n",
       "      <td>MSDRG</td>\n",
       "    </tr>\n",
       "    <tr>\n",
       "      <th>2272</th>\n",
       "      <td>5</td>\n",
       "      <td>LIVER TRANSPLANT WITH MCC OR INTESTINAL TRANSP...</td>\n",
       "      <td>Cigna</td>\n",
       "      <td>544148.325</td>\n",
       "      <td>7</td>\n",
       "      <td>New York-Presbyterian Hospital</td>\n",
       "      <td>MSDRG</td>\n",
       "    </tr>\n",
       "    <tr>\n",
       "      <th>...</th>\n",
       "      <td>...</td>\n",
       "      <td>...</td>\n",
       "      <td>...</td>\n",
       "      <td>...</td>\n",
       "      <td>...</td>\n",
       "      <td>...</td>\n",
       "      <td>...</td>\n",
       "    </tr>\n",
       "    <tr>\n",
       "      <th>3019</th>\n",
       "      <td>982</td>\n",
       "      <td>EXTENSIVE O.R. PROCEDURES UNRELATED TO PRINCIP...</td>\n",
       "      <td>Cigna</td>\n",
       "      <td>99079.596</td>\n",
       "      <td>7</td>\n",
       "      <td>New York-Presbyterian Hospital</td>\n",
       "      <td>MSDRG</td>\n",
       "    </tr>\n",
       "    <tr>\n",
       "      <th>3020</th>\n",
       "      <td>983</td>\n",
       "      <td>EXTENSIVE O.R. PROCEDURES UNRELATED TO PRINCIP...</td>\n",
       "      <td>Cigna</td>\n",
       "      <td>64538.838</td>\n",
       "      <td>7</td>\n",
       "      <td>New York-Presbyterian Hospital</td>\n",
       "      <td>MSDRG</td>\n",
       "    </tr>\n",
       "    <tr>\n",
       "      <th>3021</th>\n",
       "      <td>987</td>\n",
       "      <td>NON-EXTENSIVE O.R. PROCEDURES UNRELATED TO PRI...</td>\n",
       "      <td>Cigna</td>\n",
       "      <td>127956.654</td>\n",
       "      <td>7</td>\n",
       "      <td>New York-Presbyterian Hospital</td>\n",
       "      <td>MSDRG</td>\n",
       "    </tr>\n",
       "    <tr>\n",
       "      <th>3022</th>\n",
       "      <td>988</td>\n",
       "      <td>NON-EXTENSIVE O.R. PROCEDURES UNRELATED TO PRI...</td>\n",
       "      <td>Cigna</td>\n",
       "      <td>66651.984</td>\n",
       "      <td>7</td>\n",
       "      <td>New York-Presbyterian Hospital</td>\n",
       "      <td>MSDRG</td>\n",
       "    </tr>\n",
       "    <tr>\n",
       "      <th>3023</th>\n",
       "      <td>989</td>\n",
       "      <td>NON-EXTENSIVE O.R. PROCEDURES UNRELATED TO PRI...</td>\n",
       "      <td>Cigna</td>\n",
       "      <td>43887.816</td>\n",
       "      <td>7</td>\n",
       "      <td>New York-Presbyterian Hospital</td>\n",
       "      <td>MSDRG</td>\n",
       "    </tr>\n",
       "  </tbody>\n",
       "</table>\n",
       "<p>756 rows × 7 columns</p>\n",
       "</div>"
      ],
      "text/plain": [
       "      DRG Number                                    DRG Description   Plan  \\\n",
       "2268           1  HEART TRANSPLANT OR IMPLANT OF HEART ASSIST SY...  Cigna   \n",
       "2269           2  HEART TRANSPLANT OR IMPLANT OF HEART ASSIST SY...  Cigna   \n",
       "2270           3  ECMO OR TRACHEOSTOMY WITH MV >96 HOURS OR PRIN...  Cigna   \n",
       "2271           4  TRACHEOSTOMY WITH MV >96 HOURS OR PRINCIPAL DI...  Cigna   \n",
       "2272           5  LIVER TRANSPLANT WITH MCC OR INTESTINAL TRANSP...  Cigna   \n",
       "...          ...                                                ...    ...   \n",
       "3019         982  EXTENSIVE O.R. PROCEDURES UNRELATED TO PRINCIP...  Cigna   \n",
       "3020         983  EXTENSIVE O.R. PROCEDURES UNRELATED TO PRINCIP...  Cigna   \n",
       "3021         987  NON-EXTENSIVE O.R. PROCEDURES UNRELATED TO PRI...  Cigna   \n",
       "3022         988  NON-EXTENSIVE O.R. PROCEDURES UNRELATED TO PRI...  Cigna   \n",
       "3023         989  NON-EXTENSIVE O.R. PROCEDURES UNRELATED TO PRI...  Cigna   \n",
       "\n",
       "      Charge Amount  US News Ranking                   Hospital Name  \\\n",
       "2268    1024812.054                7  New York-Presbyterian Hospital   \n",
       "2269    1024812.054                7  New York-Presbyterian Hospital   \n",
       "2270     746260.830                7  New York-Presbyterian Hospital   \n",
       "2271     465692.850                7  New York-Presbyterian Hospital   \n",
       "2272     544148.325                7  New York-Presbyterian Hospital   \n",
       "...             ...              ...                             ...   \n",
       "3019      99079.596                7  New York-Presbyterian Hospital   \n",
       "3020      64538.838                7  New York-Presbyterian Hospital   \n",
       "3021     127956.654                7  New York-Presbyterian Hospital   \n",
       "3022      66651.984                7  New York-Presbyterian Hospital   \n",
       "3023      43887.816                7  New York-Presbyterian Hospital   \n",
       "\n",
       "     Billing Code Type  \n",
       "2268             MSDRG  \n",
       "2269             MSDRG  \n",
       "2270             MSDRG  \n",
       "2271             MSDRG  \n",
       "2272             MSDRG  \n",
       "...                ...  \n",
       "3019             MSDRG  \n",
       "3020             MSDRG  \n",
       "3021             MSDRG  \n",
       "3022             MSDRG  \n",
       "3023             MSDRG  \n",
       "\n",
       "[756 rows x 7 columns]"
      ]
     },
     "execution_count": 82,
     "metadata": {},
     "output_type": "execute_result"
    }
   ],
   "source": [
    "NYpresdf[NYpresdf['Plan'].str.contains('Cigna')]"
   ]
  },
  {
   "cell_type": "code",
   "execution_count": 114,
   "id": "d98c317a",
   "metadata": {},
   "outputs": [],
   "source": []
  },
  {
   "cell_type": "code",
   "execution_count": 115,
   "id": "9be76a54",
   "metadata": {},
   "outputs": [],
   "source": [
    "# create payer column\n",
    "NYpresdf['Payor'] = NYpresdf.apply(lambda row: categorise(row), axis=1)"
   ]
  },
  {
   "cell_type": "code",
   "execution_count": 116,
   "id": "5a9a44dd",
   "metadata": {},
   "outputs": [
    {
     "data": {
      "text/plain": [
       "array(['Gross Charge', 'Self Pay', 'Aetna', 'Cigna', 'Other',\n",
       "       'United Healthcare'], dtype=object)"
      ]
     },
     "execution_count": 116,
     "metadata": {},
     "output_type": "execute_result"
    }
   ],
   "source": [
    "#check that it worked\n",
    "NYpresdf['Payor'].unique()"
   ]
  },
  {
   "cell_type": "code",
   "execution_count": 86,
   "id": "91db9787",
   "metadata": {},
   "outputs": [],
   "source": [
    "NYpresdf = NYpresdf[[\"US News Ranking\",\"Hospital Name\", \"Billing Code Type\",\"DRG Number\", \"DRG Description\",\"Payor\",\"Plan\",\"Charge Amount\"]]"
   ]
  },
  {
   "cell_type": "code",
   "execution_count": 88,
   "id": "bb10f717",
   "metadata": {},
   "outputs": [],
   "source": [
    "# ouput csv file\n",
    "NYpresdf.to_csv('New York-Presbyterian.csv', index=False)"
   ]
  },
  {
   "cell_type": "code",
   "execution_count": null,
   "id": "ca1423fc",
   "metadata": {},
   "outputs": [],
   "source": [
    "#########################################################################################################################"
   ]
  },
  {
   "cell_type": "code",
   "execution_count": null,
   "id": "9e42de15",
   "metadata": {},
   "outputs": [],
   "source": [
    "#read in Cedars Sinai data;"
   ]
  },
  {
   "cell_type": "code",
   "execution_count": null,
   "id": "76b70a1a",
   "metadata": {},
   "outputs": [],
   "source": [
    "##########################################################################################################################"
   ]
  },
  {
   "cell_type": "code",
   "execution_count": 44,
   "id": "aa1e4b4f",
   "metadata": {},
   "outputs": [],
   "source": [
    "file_path = \"../951644600_cedars-sinai-medical-center_standardcharges.csv\"\n",
    "cedars_sinai_df=pd.read_csv(file_path)"
   ]
  },
  {
   "cell_type": "code",
   "execution_count": 45,
   "id": "cd244d6f",
   "metadata": {},
   "outputs": [
    {
     "data": {
      "text/plain": [
       "Index(['Inpatient/Outpatient', 'CHARGE_CODE', 'CHARGE_DESC', 'MEDICATION_NAME',\n",
       "       'ERX_ID', 'NDC_CODE', 'CPT_CODE', 'GROSS_CHARGES', 'MIN', 'MAX',\n",
       "       'Aetna_HMO', 'Aetna_PPO', 'Blue_Cross_HMO_PPO', 'Blue_Cross_SR_HMO',\n",
       "       'Blue_Shield_HMO_PPO', 'Blue_Shield_Sr_HMO', 'Cigna_PPO',\n",
       "       'Healthnet_HMO', 'Healthnet_PPO', 'Kaiser', 'Kaiser_SR_MMC',\n",
       "       'Multiplan', 'UHC_HMO', 'UHC_PPO', 'UHC_SR_HMO/PPO',\n",
       "       'Uninsured rate for patients that do not qualify for financial assistance*'],\n",
       "      dtype='object')"
      ]
     },
     "execution_count": 45,
     "metadata": {},
     "output_type": "execute_result"
    }
   ],
   "source": [
    "cedars_sinai_df.columns"
   ]
  },
  {
   "cell_type": "code",
   "execution_count": 47,
   "id": "ba1b55ee",
   "metadata": {},
   "outputs": [
    {
     "data": {
      "text/plain": [
       "array(['CSMC IP', 'CSMC OPED',\n",
       "       \"*Cedars-Sinai does not have a standard cash price for inpatient services because each patient's specific medical and financial situation is different. If you are uninsured, the price you will pay for inpatient care at Cedars-Sinai will depend on the services you need and the amount of financial assistance you qualify for under our general financial assistance policy.   Although there are no standard cash prices for inpatient services, if you are uninsured and would like information on rates for services, please contact Patient Financial Services at 866-803-1777. We're committed to providing quality healthcare to everyone in the community who needs it. This includes offering full financial assistance or services at discounted prices to eligible people who cannot afford to pay for part or all of their care. Payment plans are also available.\"],\n",
       "      dtype=object)"
      ]
     },
     "execution_count": 47,
     "metadata": {},
     "output_type": "execute_result"
    }
   ],
   "source": [
    "cedars_sinai_df['Inpatient/Outpatient'].unique()"
   ]
  },
  {
   "cell_type": "code",
   "execution_count": 49,
   "id": "bc04520b",
   "metadata": {},
   "outputs": [],
   "source": [
    "inpatient_df=cedars_sinai_df[cedars_sinai_df['Inpatient/Outpatient']=='CSMC IP']"
   ]
  },
  {
   "cell_type": "code",
   "execution_count": 55,
   "id": "e361115f",
   "metadata": {},
   "outputs": [
    {
     "data": {
      "text/plain": [
       "array([ 1200001.,  1200002.,  1200003., ...,  9900515.,  9900517.,\n",
       "       80016217.])"
      ]
     },
     "execution_count": 55,
     "metadata": {},
     "output_type": "execute_result"
    }
   ],
   "source": [
    "inpatient_df['CHARGE_CODE'].unique()"
   ]
  },
  {
   "cell_type": "code",
   "execution_count": 1,
   "id": "d29c3ffd",
   "metadata": {},
   "outputs": [
    {
     "ename": "SyntaxError",
     "evalue": "invalid syntax (Temp/ipykernel_9656/2189078099.py, line 1)",
     "output_type": "error",
     "traceback": [
      "\u001b[1;36m  File \u001b[1;32m\"C:\\Users\\m122353\\AppData\\Local\\Temp/ipykernel_9656/2189078099.py\"\u001b[1;36m, line \u001b[1;32m1\u001b[0m\n\u001b[1;33m    inpatient_df['CHARGE_CODE']<1000:\u001b[0m\n\u001b[1;37m                                     ^\u001b[0m\n\u001b[1;31mSyntaxError\u001b[0m\u001b[1;31m:\u001b[0m invalid syntax\n"
     ]
    }
   ],
   "source": [
    "inpatient_df['CHARGE_CODE']<1000:"
   ]
  },
  {
   "cell_type": "code",
   "execution_count": 415,
   "id": "3d1c266b",
   "metadata": {
    "scrolled": true
   },
   "outputs": [
    {
     "data": {
      "text/plain": [
       "Inpatient/Outpatient                                                          object\n",
       "CHARGE_CODE                                                                  float64\n",
       "CHARGE_DESC                                                                   object\n",
       "MEDICATION_NAME                                                               object\n",
       "ERX_ID                                                                       float64\n",
       "NDC_CODE                                                                      object\n",
       "CPT_CODE                                                                      object\n",
       "GROSS_CHARGES                                                                float64\n",
       "MIN                                                                          float64\n",
       "MAX                                                                          float64\n",
       "Aetna_HMO                                                                    float64\n",
       "Aetna_PPO                                                                    float64\n",
       "Blue_Cross_HMO_PPO                                                           float64\n",
       "Blue_Cross_SR_HMO                                                            float64\n",
       "Blue_Shield_HMO_PPO                                                          float64\n",
       "Blue_Shield_Sr_HMO                                                           float64\n",
       "Cigna_PPO                                                                    float64\n",
       "Healthnet_HMO                                                                float64\n",
       "Healthnet_PPO                                                                float64\n",
       "Kaiser                                                                       float64\n",
       "Kaiser_SR_MMC                                                                float64\n",
       "Multiplan                                                                    float64\n",
       "UHC_HMO                                                                      float64\n",
       "UHC_PPO                                                                      float64\n",
       "UHC_SR_HMO/PPO                                                               float64\n",
       "Uninsured rate for patients that do not qualify for financial assistance*     object\n",
       "dtype: object"
      ]
     },
     "execution_count": 415,
     "metadata": {},
     "output_type": "execute_result"
    }
   ],
   "source": [
    "inpatient_df.dtypes"
   ]
  },
  {
   "cell_type": "code",
   "execution_count": 418,
   "id": "a327ed7f",
   "metadata": {},
   "outputs": [
    {
     "data": {
      "text/plain": [
       "<bound method Series.unique of 0       False\n",
       "1       False\n",
       "2       False\n",
       "3       False\n",
       "4       False\n",
       "        ...  \n",
       "9094    False\n",
       "9095    False\n",
       "9096    False\n",
       "9097    False\n",
       "9098    False\n",
       "Name: CHARGE_DESC, Length: 9099, dtype: bool>"
      ]
     },
     "execution_count": 418,
     "metadata": {},
     "output_type": "execute_result"
    }
   ],
   "source": [
    "inpatient_df['CHARGE_DESC'].str.contains('DRG')"
   ]
  },
  {
   "cell_type": "code",
   "execution_count": 284,
   "id": "e49417fb",
   "metadata": {},
   "outputs": [],
   "source": [
    "files=np.arange(13)\n",
    "filestart=\"../133971298_nyu-langone-health_standardcharges_\"\n",
    "filenames=[]"
   ]
  },
  {
   "cell_type": "code",
   "execution_count": 285,
   "id": "2a427a6a",
   "metadata": {},
   "outputs": [],
   "source": [
    "###########################################\n",
    "#read in all 12 files from NYU langone and keep only DRG rows\n",
    "for item in files:\n",
    "    name=f\"NYU_{item}\"\n",
    "    try: \n",
    "         exec(f'NYU_{item}=pd.read_csv(f\"{filestart}{item}.csv\", low_memory=False)')\n",
    "         exec(f\"NYU_drg_{item}=NYU_{item}[NYU_{item}[' Billing Code'].str.contains('MSDRG', na=False)]\") \n",
    "         #exec(f\"print(NYU_drg_{item}.shape)\")\n",
    "         exec(f\"filenames.append(f'NYU_drg_{item}')\")\n",
    "    except: \n",
    "        continue"
   ]
  },
  {
   "cell_type": "code",
   "execution_count": null,
   "id": "3ae166fb",
   "metadata": {},
   "outputs": [],
   "source": [
    "filenames"
   ]
  },
  {
   "cell_type": "code",
   "execution_count": 388,
   "id": "1aba006a",
   "metadata": {},
   "outputs": [],
   "source": [
    "starter_cols=NYU_drg_1[NYU_drg_1.columns[1:3]]"
   ]
  },
  {
   "cell_type": "code",
   "execution_count": 389,
   "id": "2609b99a",
   "metadata": {},
   "outputs": [
    {
     "data": {
      "text/plain": [
       "Index([' Billing Code', 'Identifier Description'], dtype='object')"
      ]
     },
     "execution_count": 389,
     "metadata": {},
     "output_type": "execute_result"
    }
   ],
   "source": [
    "starter_cols.columns"
   ]
  },
  {
   "cell_type": "code",
   "execution_count": 390,
   "id": "e0204edb",
   "metadata": {},
   "outputs": [
    {
     "name": "stdout",
     "output_type": "stream",
     "text": [
      "NYU_drg_1\n",
      "NYU_drg_2\n",
      "NYU_drg_3\n",
      "NYU_drg_4\n",
      "NYU_drg_5\n",
      "NYU_drg_6\n",
      "NYU_drg_7\n",
      "NYU_drg_8\n",
      "NYU_drg_9\n",
      "NYU_drg_10\n",
      "NYU_drg_11\n",
      "NYU_drg_12\n"
     ]
    }
   ],
   "source": [
    "for file in filenames:\n",
    "    print(file)"
   ]
  },
  {
   "cell_type": "code",
   "execution_count": 391,
   "id": "056a9802",
   "metadata": {},
   "outputs": [],
   "source": [
    "#keep columns with Blue Cross Blues Shield, United Health Care, Cigna, Health Partners, Aetna\n",
    "newfilenames=[]\n",
    "providers=['BCBS', 'UNITED', 'CIGNA', 'AETNA' ]\n",
    "for file in filenames:\n",
    "    column_names=[]\n",
    "    for column in eval(file):\n",
    "        for provider in providers:\n",
    "            if provider in column:\n",
    "               # print(column)\n",
    "                column_names.append(column)\n",
    "    try:\n",
    "        exec(f\"new_{file} = {file}[column_names]\")\n",
    "        exec(f\"newfilenames.append(f'new_{file}')\")\n",
    "    except:\n",
    "        print(f\"error {file}\")\n"
   ]
  },
  {
   "cell_type": "code",
   "execution_count": 392,
   "id": "0229b3ae",
   "metadata": {},
   "outputs": [
    {
     "name": "stdout",
     "output_type": "stream",
     "text": [
      "new_NYU_drg_1\n",
      "new_NYU_drg_2\n",
      "new_NYU_drg_3\n",
      "new_NYU_drg_4\n",
      "new_NYU_drg_5\n",
      "new_NYU_drg_6\n",
      "new_NYU_drg_7\n",
      "new_NYU_drg_8\n",
      "new_NYU_drg_9\n",
      "new_NYU_drg_10\n",
      "new_NYU_drg_11\n",
      "new_NYU_drg_12\n"
     ]
    }
   ],
   "source": [
    "for file in newfilenames:\n",
    "    print(file)"
   ]
  },
  {
   "cell_type": "code",
   "execution_count": 393,
   "id": "f022cdb3",
   "metadata": {},
   "outputs": [],
   "source": [
    "frames=[starter_cols,new_NYU_drg_1,\n",
    "new_NYU_drg_2,\n",
    "new_NYU_drg_3,\n",
    "new_NYU_drg_4,\n",
    "new_NYU_drg_5,\n",
    "new_NYU_drg_6,\n",
    "new_NYU_drg_7,\n",
    "new_NYU_drg_8,\n",
    "new_NYU_drg_9,\n",
    "new_NYU_drg_10,\n",
    "new_NYU_drg_11,\n",
    "new_NYU_drg_12]\n",
    "result = pd.concat(frames,axis=1)"
   ]
  },
  {
   "cell_type": "code",
   "execution_count": 394,
   "id": "d39a8c93",
   "metadata": {},
   "outputs": [
    {
     "data": {
      "text/plain": [
       "(767, 427)"
      ]
     },
     "execution_count": 394,
     "metadata": {},
     "output_type": "execute_result"
    }
   ],
   "source": [
    "result.shape"
   ]
  },
  {
   "cell_type": "code",
   "execution_count": 395,
   "id": "4dbd45dd",
   "metadata": {},
   "outputs": [
    {
     "data": {
      "text/html": [
       "<div>\n",
       "<style scoped>\n",
       "    .dataframe tbody tr th:only-of-type {\n",
       "        vertical-align: middle;\n",
       "    }\n",
       "\n",
       "    .dataframe tbody tr th {\n",
       "        vertical-align: top;\n",
       "    }\n",
       "\n",
       "    .dataframe thead th {\n",
       "        text-align: right;\n",
       "    }\n",
       "</style>\n",
       "<table border=\"1\" class=\"dataframe\">\n",
       "  <thead>\n",
       "    <tr style=\"text-align: right;\">\n",
       "      <th></th>\n",
       "      <th>Billing Code</th>\n",
       "      <th>Identifier Description</th>\n",
       "      <th>Hospital A1005AETNA HMO</th>\n",
       "      <th>Hospital B1005AETNA HMO</th>\n",
       "      <th>Hospital C1005AETNA HMO</th>\n",
       "      <th>Hospital D1005AETNA HMO</th>\n",
       "      <th>Hospital A1006AETNA INDEMNITY</th>\n",
       "      <th>Hospital B1006AETNA INDEMNITY</th>\n",
       "      <th>Hospital C1006AETNA INDEMNITY</th>\n",
       "      <th>Hospital D1006AETNA INDEMNITY</th>\n",
       "      <th>...</th>\n",
       "      <th>Hospital C1773 UNITED HEALTHCARE CHOICE NSLIJ</th>\n",
       "      <th>Hospital D1773 UNITED HEALTHCARE CHOICE NSLIJ</th>\n",
       "      <th>Hospital A3911 UNITED HEALTHCARE CHOICE (NY POWER AUTHORITY)</th>\n",
       "      <th>Hospital B3911 UNITED HEALTHCARE CHOICE (NY POWER AUTHORITY)</th>\n",
       "      <th>Hospital C3911 UNITED HEALTHCARE CHOICE (NY POWER AUTHORITY)</th>\n",
       "      <th>Hospital D3911 UNITED HEALTHCARE CHOICE (NY POWER AUTHORITY)</th>\n",
       "      <th>Hospital A1352 UNITED HEALTHCARE OPTUM HEALTH</th>\n",
       "      <th>Hospital B1352 UNITED HEALTHCARE OPTUM HEALTH</th>\n",
       "      <th>Hospital C1352 UNITED HEALTHCARE OPTUM HEALTH</th>\n",
       "      <th>Hospital D1352 UNITED HEALTHCARE OPTUM HEALTH</th>\n",
       "    </tr>\n",
       "  </thead>\n",
       "  <tbody>\n",
       "    <tr>\n",
       "      <th>46236</th>\n",
       "      <td>MSDRG001</td>\n",
       "      <td>HEART TRANSPLANT OR IMPLANT OF HEART ASSIST SY...</td>\n",
       "      <td>618308.78</td>\n",
       "      <td>618308.78</td>\n",
       "      <td>475737.79</td>\n",
       "      <td>576211.16</td>\n",
       "      <td>1981340.18</td>\n",
       "      <td>1981340.18</td>\n",
       "      <td>1981340.18</td>\n",
       "      <td>1981340.18</td>\n",
       "      <td>...</td>\n",
       "      <td>630278.85</td>\n",
       "      <td>569127.43</td>\n",
       "      <td>601875</td>\n",
       "      <td>601875</td>\n",
       "      <td>630278.85</td>\n",
       "      <td>569127.43</td>\n",
       "      <td>601875</td>\n",
       "      <td>601875</td>\n",
       "      <td>630278.85</td>\n",
       "      <td>569127.43</td>\n",
       "    </tr>\n",
       "    <tr>\n",
       "      <th>46237</th>\n",
       "      <td>MSDRG002</td>\n",
       "      <td>HEART TRANSPLANT OR IMPLANT OF HEART ASSIST SY...</td>\n",
       "      <td>320135.59</td>\n",
       "      <td>320135.59</td>\n",
       "      <td>246318.03</td>\n",
       "      <td>298339.12</td>\n",
       "      <td>1321224.39</td>\n",
       "      <td>1321224.39</td>\n",
       "      <td>1321224.39</td>\n",
       "      <td>1321224.39</td>\n",
       "      <td>...</td>\n",
       "      <td>326333.21</td>\n",
       "      <td>294671.45</td>\n",
       "      <td>601875</td>\n",
       "      <td>601875</td>\n",
       "      <td>326333.21</td>\n",
       "      <td>294671.45</td>\n",
       "      <td>601875</td>\n",
       "      <td>601875</td>\n",
       "      <td>326333.21</td>\n",
       "      <td>294671.45</td>\n",
       "    </tr>\n",
       "    <tr>\n",
       "      <th>46238</th>\n",
       "      <td>MSDRG003</td>\n",
       "      <td>ECMO OR TRACHEOSTOMY WITH MV &gt;96 HOURS OR PRIN...</td>\n",
       "      <td>408571.12</td>\n",
       "      <td>408571.12</td>\n",
       "      <td>314361.9</td>\n",
       "      <td>380753.51</td>\n",
       "      <td>2053176.55</td>\n",
       "      <td>2053176.55</td>\n",
       "      <td>2053176.55</td>\n",
       "      <td>2053176.55</td>\n",
       "      <td>...</td>\n",
       "      <td>416480.79</td>\n",
       "      <td>376072.66</td>\n",
       "      <td>513766</td>\n",
       "      <td>513766</td>\n",
       "      <td>416480.79</td>\n",
       "      <td>376072.66</td>\n",
       "      <td>513766</td>\n",
       "      <td>513766</td>\n",
       "      <td>416480.79</td>\n",
       "      <td>376072.66</td>\n",
       "    </tr>\n",
       "    <tr>\n",
       "      <th>46239</th>\n",
       "      <td>MSDRG004</td>\n",
       "      <td>TRACHEOSTOMY WITH MV &gt;96 HOURS OR PRINCIPAL DI...</td>\n",
       "      <td>254962.66</td>\n",
       "      <td>254962.66</td>\n",
       "      <td>196172.82</td>\n",
       "      <td>237603.5</td>\n",
       "      <td>1413751.59</td>\n",
       "      <td>1413751.59</td>\n",
       "      <td>1413751.59</td>\n",
       "      <td>1413751.59</td>\n",
       "      <td>...</td>\n",
       "      <td>259898.58</td>\n",
       "      <td>234682.49</td>\n",
       "      <td>320607.95</td>\n",
       "      <td>320607.95</td>\n",
       "      <td>259898.58</td>\n",
       "      <td>234682.49</td>\n",
       "      <td>320607.95</td>\n",
       "      <td>320607.95</td>\n",
       "      <td>259898.58</td>\n",
       "      <td>234682.49</td>\n",
       "    </tr>\n",
       "    <tr>\n",
       "      <th>46240</th>\n",
       "      <td>MSDRG005</td>\n",
       "      <td>LIVER TRANSPLANT WITH MCC OR INTESTINAL TRANSP...</td>\n",
       "      <td>218875.48</td>\n",
       "      <td>218875.48</td>\n",
       "      <td>168406.69</td>\n",
       "      <td>203973.32</td>\n",
       "      <td>1619771.81</td>\n",
       "      <td>1619771.81</td>\n",
       "      <td>1619771.81</td>\n",
       "      <td>1619771.81</td>\n",
       "      <td>...</td>\n",
       "      <td>223112.77</td>\n",
       "      <td>201465.74</td>\n",
       "      <td>275229.39</td>\n",
       "      <td>275229.39</td>\n",
       "      <td>223112.77</td>\n",
       "      <td>201465.74</td>\n",
       "      <td>275229.39</td>\n",
       "      <td>275229.39</td>\n",
       "      <td>223112.77</td>\n",
       "      <td>201465.74</td>\n",
       "    </tr>\n",
       "    <tr>\n",
       "      <th>...</th>\n",
       "      <td>...</td>\n",
       "      <td>...</td>\n",
       "      <td>...</td>\n",
       "      <td>...</td>\n",
       "      <td>...</td>\n",
       "      <td>...</td>\n",
       "      <td>...</td>\n",
       "      <td>...</td>\n",
       "      <td>...</td>\n",
       "      <td>...</td>\n",
       "      <td>...</td>\n",
       "      <td>...</td>\n",
       "      <td>...</td>\n",
       "      <td>...</td>\n",
       "      <td>...</td>\n",
       "      <td>...</td>\n",
       "      <td>...</td>\n",
       "      <td>...</td>\n",
       "      <td>...</td>\n",
       "      <td>...</td>\n",
       "      <td>...</td>\n",
       "    </tr>\n",
       "    <tr>\n",
       "      <th>46998</th>\n",
       "      <td>MSDRG987</td>\n",
       "      <td>NON-EXTENSIVE O.R. PROCEDURES UNRELATED TO PRI...</td>\n",
       "      <td>70055.12</td>\n",
       "      <td>70055.12</td>\n",
       "      <td>53901.66</td>\n",
       "      <td>65285.41</td>\n",
       "      <td>342572.2</td>\n",
       "      <td>342572.2</td>\n",
       "      <td>342572.2</td>\n",
       "      <td>342572.2</td>\n",
       "      <td>...</td>\n",
       "      <td>71411.34</td>\n",
       "      <td>64482.82</td>\n",
       "      <td>88092.23</td>\n",
       "      <td>88092.23</td>\n",
       "      <td>71411.34</td>\n",
       "      <td>64482.82</td>\n",
       "      <td>88092.23</td>\n",
       "      <td>88092.23</td>\n",
       "      <td>71411.34</td>\n",
       "      <td>64482.82</td>\n",
       "    </tr>\n",
       "    <tr>\n",
       "      <th>46999</th>\n",
       "      <td>MSDRG988</td>\n",
       "      <td>NON-EXTENSIVE O.R. PROCEDURES UNRELATED TO PRI...</td>\n",
       "      <td>36491.36</td>\n",
       "      <td>36491.36</td>\n",
       "      <td>28077.11</td>\n",
       "      <td>34006.85</td>\n",
       "      <td>130678.26</td>\n",
       "      <td>130678.26</td>\n",
       "      <td>130678.26</td>\n",
       "      <td>130678.26</td>\n",
       "      <td>...</td>\n",
       "      <td>37197.81</td>\n",
       "      <td>33588.78</td>\n",
       "      <td>45886.8</td>\n",
       "      <td>45886.8</td>\n",
       "      <td>37197.81</td>\n",
       "      <td>33588.78</td>\n",
       "      <td>45886.8</td>\n",
       "      <td>45886.8</td>\n",
       "      <td>37197.81</td>\n",
       "      <td>33588.78</td>\n",
       "    </tr>\n",
       "    <tr>\n",
       "      <th>47000</th>\n",
       "      <td>MSDRG989</td>\n",
       "      <td>NON-EXTENSIVE O.R. PROCEDURES UNRELATED TO PRI...</td>\n",
       "      <td>24028.19</td>\n",
       "      <td>24028.19</td>\n",
       "      <td>18487.71</td>\n",
       "      <td>22392.22</td>\n",
       "      <td>82114.68</td>\n",
       "      <td>82114.68</td>\n",
       "      <td>82114.68</td>\n",
       "      <td>82114.68</td>\n",
       "      <td>...</td>\n",
       "      <td>24493.36</td>\n",
       "      <td>22116.94</td>\n",
       "      <td>30214.73</td>\n",
       "      <td>30214.73</td>\n",
       "      <td>24493.36</td>\n",
       "      <td>22116.94</td>\n",
       "      <td>30214.73</td>\n",
       "      <td>30214.73</td>\n",
       "      <td>24493.36</td>\n",
       "      <td>22116.94</td>\n",
       "    </tr>\n",
       "    <tr>\n",
       "      <th>47001</th>\n",
       "      <td>MSDRG998</td>\n",
       "      <td>PRINCIPAL DIAGNOSIS INVALID AS DISCHARGE DIAGN...</td>\n",
       "      <td>NaN</td>\n",
       "      <td>NaN</td>\n",
       "      <td>NaN</td>\n",
       "      <td>NaN</td>\n",
       "      <td>NaN</td>\n",
       "      <td>NaN</td>\n",
       "      <td>NaN</td>\n",
       "      <td>NaN</td>\n",
       "      <td>...</td>\n",
       "      <td>NaN</td>\n",
       "      <td>NaN</td>\n",
       "      <td>NaN</td>\n",
       "      <td>NaN</td>\n",
       "      <td>NaN</td>\n",
       "      <td>NaN</td>\n",
       "      <td>NaN</td>\n",
       "      <td>NaN</td>\n",
       "      <td>NaN</td>\n",
       "      <td>NaN</td>\n",
       "    </tr>\n",
       "    <tr>\n",
       "      <th>47002</th>\n",
       "      <td>MSDRG999</td>\n",
       "      <td>UNGROUPABLE</td>\n",
       "      <td>NaN</td>\n",
       "      <td>NaN</td>\n",
       "      <td>NaN</td>\n",
       "      <td>NaN</td>\n",
       "      <td>NaN</td>\n",
       "      <td>NaN</td>\n",
       "      <td>NaN</td>\n",
       "      <td>NaN</td>\n",
       "      <td>...</td>\n",
       "      <td>NaN</td>\n",
       "      <td>NaN</td>\n",
       "      <td>NaN</td>\n",
       "      <td>NaN</td>\n",
       "      <td>NaN</td>\n",
       "      <td>NaN</td>\n",
       "      <td>NaN</td>\n",
       "      <td>NaN</td>\n",
       "      <td>NaN</td>\n",
       "      <td>NaN</td>\n",
       "    </tr>\n",
       "  </tbody>\n",
       "</table>\n",
       "<p>767 rows × 427 columns</p>\n",
       "</div>"
      ],
      "text/plain": [
       "       Billing Code                             Identifier Description  \\\n",
       "46236      MSDRG001  HEART TRANSPLANT OR IMPLANT OF HEART ASSIST SY...   \n",
       "46237      MSDRG002  HEART TRANSPLANT OR IMPLANT OF HEART ASSIST SY...   \n",
       "46238      MSDRG003  ECMO OR TRACHEOSTOMY WITH MV >96 HOURS OR PRIN...   \n",
       "46239      MSDRG004  TRACHEOSTOMY WITH MV >96 HOURS OR PRINCIPAL DI...   \n",
       "46240      MSDRG005  LIVER TRANSPLANT WITH MCC OR INTESTINAL TRANSP...   \n",
       "...             ...                                                ...   \n",
       "46998      MSDRG987  NON-EXTENSIVE O.R. PROCEDURES UNRELATED TO PRI...   \n",
       "46999      MSDRG988  NON-EXTENSIVE O.R. PROCEDURES UNRELATED TO PRI...   \n",
       "47000      MSDRG989  NON-EXTENSIVE O.R. PROCEDURES UNRELATED TO PRI...   \n",
       "47001      MSDRG998  PRINCIPAL DIAGNOSIS INVALID AS DISCHARGE DIAGN...   \n",
       "47002      MSDRG999                                        UNGROUPABLE   \n",
       "\n",
       "      Hospital A1005AETNA HMO Hospital B1005AETNA HMO Hospital C1005AETNA HMO  \\\n",
       "46236               618308.78               618308.78               475737.79   \n",
       "46237               320135.59               320135.59               246318.03   \n",
       "46238               408571.12               408571.12                314361.9   \n",
       "46239               254962.66               254962.66               196172.82   \n",
       "46240               218875.48               218875.48               168406.69   \n",
       "...                       ...                     ...                     ...   \n",
       "46998                70055.12                70055.12                53901.66   \n",
       "46999                36491.36                36491.36                28077.11   \n",
       "47000                24028.19                24028.19                18487.71   \n",
       "47001                     NaN                     NaN                     NaN   \n",
       "47002                     NaN                     NaN                     NaN   \n",
       "\n",
       "      Hospital D1005AETNA HMO Hospital A1006AETNA INDEMNITY  \\\n",
       "46236               576211.16                    1981340.18   \n",
       "46237               298339.12                    1321224.39   \n",
       "46238               380753.51                    2053176.55   \n",
       "46239                237603.5                    1413751.59   \n",
       "46240               203973.32                    1619771.81   \n",
       "...                       ...                           ...   \n",
       "46998                65285.41                      342572.2   \n",
       "46999                34006.85                     130678.26   \n",
       "47000                22392.22                      82114.68   \n",
       "47001                     NaN                           NaN   \n",
       "47002                     NaN                           NaN   \n",
       "\n",
       "      Hospital B1006AETNA INDEMNITY Hospital C1006AETNA INDEMNITY  \\\n",
       "46236                    1981340.18                    1981340.18   \n",
       "46237                    1321224.39                    1321224.39   \n",
       "46238                    2053176.55                    2053176.55   \n",
       "46239                    1413751.59                    1413751.59   \n",
       "46240                    1619771.81                    1619771.81   \n",
       "...                             ...                           ...   \n",
       "46998                      342572.2                      342572.2   \n",
       "46999                     130678.26                     130678.26   \n",
       "47000                      82114.68                      82114.68   \n",
       "47001                           NaN                           NaN   \n",
       "47002                           NaN                           NaN   \n",
       "\n",
       "      Hospital D1006AETNA INDEMNITY  ...  \\\n",
       "46236                    1981340.18  ...   \n",
       "46237                    1321224.39  ...   \n",
       "46238                    2053176.55  ...   \n",
       "46239                    1413751.59  ...   \n",
       "46240                    1619771.81  ...   \n",
       "...                             ...  ...   \n",
       "46998                      342572.2  ...   \n",
       "46999                     130678.26  ...   \n",
       "47000                      82114.68  ...   \n",
       "47001                           NaN  ...   \n",
       "47002                           NaN  ...   \n",
       "\n",
       "      Hospital C1773 UNITED HEALTHCARE CHOICE NSLIJ  \\\n",
       "46236                                     630278.85   \n",
       "46237                                     326333.21   \n",
       "46238                                     416480.79   \n",
       "46239                                     259898.58   \n",
       "46240                                     223112.77   \n",
       "...                                             ...   \n",
       "46998                                      71411.34   \n",
       "46999                                      37197.81   \n",
       "47000                                      24493.36   \n",
       "47001                                           NaN   \n",
       "47002                                           NaN   \n",
       "\n",
       "      Hospital D1773 UNITED HEALTHCARE CHOICE NSLIJ  \\\n",
       "46236                                     569127.43   \n",
       "46237                                     294671.45   \n",
       "46238                                     376072.66   \n",
       "46239                                     234682.49   \n",
       "46240                                     201465.74   \n",
       "...                                             ...   \n",
       "46998                                      64482.82   \n",
       "46999                                      33588.78   \n",
       "47000                                      22116.94   \n",
       "47001                                           NaN   \n",
       "47002                                           NaN   \n",
       "\n",
       "      Hospital A3911 UNITED HEALTHCARE CHOICE (NY POWER AUTHORITY)  \\\n",
       "46236                                             601875             \n",
       "46237                                             601875             \n",
       "46238                                             513766             \n",
       "46239                                          320607.95             \n",
       "46240                                          275229.39             \n",
       "...                                                  ...             \n",
       "46998                                           88092.23             \n",
       "46999                                            45886.8             \n",
       "47000                                           30214.73             \n",
       "47001                                                NaN             \n",
       "47002                                                NaN             \n",
       "\n",
       "      Hospital B3911 UNITED HEALTHCARE CHOICE (NY POWER AUTHORITY)  \\\n",
       "46236                                             601875             \n",
       "46237                                             601875             \n",
       "46238                                             513766             \n",
       "46239                                          320607.95             \n",
       "46240                                          275229.39             \n",
       "...                                                  ...             \n",
       "46998                                           88092.23             \n",
       "46999                                            45886.8             \n",
       "47000                                           30214.73             \n",
       "47001                                                NaN             \n",
       "47002                                                NaN             \n",
       "\n",
       "      Hospital C3911 UNITED HEALTHCARE CHOICE (NY POWER AUTHORITY)  \\\n",
       "46236                                          630278.85             \n",
       "46237                                          326333.21             \n",
       "46238                                          416480.79             \n",
       "46239                                          259898.58             \n",
       "46240                                          223112.77             \n",
       "...                                                  ...             \n",
       "46998                                           71411.34             \n",
       "46999                                           37197.81             \n",
       "47000                                           24493.36             \n",
       "47001                                                NaN             \n",
       "47002                                                NaN             \n",
       "\n",
       "      Hospital D3911 UNITED HEALTHCARE CHOICE (NY POWER AUTHORITY)  \\\n",
       "46236                                          569127.43             \n",
       "46237                                          294671.45             \n",
       "46238                                          376072.66             \n",
       "46239                                          234682.49             \n",
       "46240                                          201465.74             \n",
       "...                                                  ...             \n",
       "46998                                           64482.82             \n",
       "46999                                           33588.78             \n",
       "47000                                           22116.94             \n",
       "47001                                                NaN             \n",
       "47002                                                NaN             \n",
       "\n",
       "      Hospital A1352 UNITED HEALTHCARE OPTUM HEALTH  \\\n",
       "46236                                        601875   \n",
       "46237                                        601875   \n",
       "46238                                        513766   \n",
       "46239                                     320607.95   \n",
       "46240                                     275229.39   \n",
       "...                                             ...   \n",
       "46998                                      88092.23   \n",
       "46999                                       45886.8   \n",
       "47000                                      30214.73   \n",
       "47001                                           NaN   \n",
       "47002                                           NaN   \n",
       "\n",
       "      Hospital B1352 UNITED HEALTHCARE OPTUM HEALTH  \\\n",
       "46236                                        601875   \n",
       "46237                                        601875   \n",
       "46238                                        513766   \n",
       "46239                                     320607.95   \n",
       "46240                                     275229.39   \n",
       "...                                             ...   \n",
       "46998                                      88092.23   \n",
       "46999                                       45886.8   \n",
       "47000                                      30214.73   \n",
       "47001                                           NaN   \n",
       "47002                                           NaN   \n",
       "\n",
       "      Hospital C1352 UNITED HEALTHCARE OPTUM HEALTH  \\\n",
       "46236                                     630278.85   \n",
       "46237                                     326333.21   \n",
       "46238                                     416480.79   \n",
       "46239                                     259898.58   \n",
       "46240                                     223112.77   \n",
       "...                                             ...   \n",
       "46998                                      71411.34   \n",
       "46999                                      37197.81   \n",
       "47000                                      24493.36   \n",
       "47001                                           NaN   \n",
       "47002                                           NaN   \n",
       "\n",
       "      Hospital D1352 UNITED HEALTHCARE OPTUM HEALTH  \n",
       "46236                                     569127.43  \n",
       "46237                                     294671.45  \n",
       "46238                                     376072.66  \n",
       "46239                                     234682.49  \n",
       "46240                                     201465.74  \n",
       "...                                             ...  \n",
       "46998                                      64482.82  \n",
       "46999                                      33588.78  \n",
       "47000                                      22116.94  \n",
       "47001                                           NaN  \n",
       "47002                                           NaN  \n",
       "\n",
       "[767 rows x 427 columns]"
      ]
     },
     "execution_count": 395,
     "metadata": {},
     "output_type": "execute_result"
    }
   ],
   "source": [
    "result"
   ]
  },
  {
   "cell_type": "code",
   "execution_count": null,
   "id": "ee82c372",
   "metadata": {},
   "outputs": [],
   "source": []
  }
 ],
 "metadata": {
  "kernelspec": {
   "display_name": "PythonData",
   "language": "python",
   "name": "pythondata"
  },
  "language_info": {
   "codemirror_mode": {
    "name": "ipython",
    "version": 3
   },
   "file_extension": ".py",
   "mimetype": "text/x-python",
   "name": "python",
   "nbconvert_exporter": "python",
   "pygments_lexer": "ipython3",
   "version": "3.7.10"
  }
 },
 "nbformat": 4,
 "nbformat_minor": 5
}
